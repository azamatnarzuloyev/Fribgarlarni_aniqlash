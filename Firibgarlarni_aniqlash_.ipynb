{
  "cells": [
    {
      "cell_type": "markdown",
      "metadata": {
        "id": "view-in-github",
        "colab_type": "text"
      },
      "source": [
        "<a href=\"https://colab.research.google.com/github/azamatnarzuloyev/Fribgarlarni_aniqlash/blob/main/Firibgarlarni_aniqlash_.ipynb\" target=\"_parent\"><img src=\"https://colab.research.google.com/assets/colab-badge.svg\" alt=\"Open In Colab\"/></a>"
      ]
    },
    {
      "cell_type": "markdown",
      "id": "c926ae50",
      "metadata": {
        "id": "c926ae50"
      },
      "source": [
        "#Onlayn toʻlovlarda firibgarlikni aniqlash men bu data frameni kagle dan oldim\n",
        "\n"
      ]
    },
    {
      "cell_type": "code",
      "execution_count": 2,
      "id": "b567d8c1",
      "metadata": {
        "id": "b567d8c1"
      },
      "outputs": [],
      "source": [
        "# kutubxonalarni import qilamiz\n",
        "import pandas as pd\n",
        "import matplotlib.pyplot as plt\n",
        "%matplotlib inline\n",
        "import seaborn as sns"
      ]
    },
    {
      "cell_type": "code",
      "execution_count": 3,
      "id": "4940d497",
      "metadata": {
        "id": "4940d497"
      },
      "outputs": [],
      "source": [
        "# data o'qiymiz \n",
        "data = pd.read_csv('Online Payment Fraud Detection.csv',encoding='unicode-escape')"
      ]
    },
    {
      "cell_type": "markdown",
      "id": "df008ed8",
      "metadata": {
        "id": "df008ed8"
      },
      "source": [
        "# Ma'lumotlarni tushinish "
      ]
    },
    {
      "cell_type": "code",
      "execution_count": 4,
      "id": "58a9a474",
      "metadata": {
        "colab": {
          "base_uri": "https://localhost:8080/"
        },
        "id": "58a9a474",
        "outputId": "31169233-aaca-4f0b-9f09-d3ba3d16c934"
      },
      "outputs": [
        {
          "output_type": "execute_result",
          "data": {
            "text/plain": [
              "(30707, 10)"
            ]
          },
          "metadata": {},
          "execution_count": 4
        }
      ],
      "source": [
        "\n",
        "data.shape"
      ]
    },
    {
      "cell_type": "code",
      "execution_count": null,
      "id": "b4fcc058",
      "metadata": {
        "colab": {
          "base_uri": "https://localhost:8080/",
          "height": 206
        },
        "id": "b4fcc058",
        "outputId": "a8b26351-7d8f-4b01-baa2-9c3f60cca926"
      },
      "outputs": [
        {
          "output_type": "execute_result",
          "data": {
            "text/plain": [
              "   step      type    amount     nameOrig  oldbalanceOrg  newbalanceOrig  \\\n",
              "0     1   PAYMENT   9839.64  C1231006815       170136.0       160296.36   \n",
              "1     1   PAYMENT   1864.28  C1666544295        21249.0        19384.72   \n",
              "2     1  TRANSFER    181.00  C1305486145          181.0            0.00   \n",
              "3     1  CASH_OUT    181.00   C840083671          181.0            0.00   \n",
              "4     1   PAYMENT  11668.14  C2048537720        41554.0        29885.86   \n",
              "\n",
              "      nameDest  oldbalanceDest  newbalanceDest  isFraud  \n",
              "0  M1979787155             0.0             0.0      0.0  \n",
              "1  M2044282225             0.0             0.0      0.0  \n",
              "2   C553264065             0.0             0.0      1.0  \n",
              "3    C38997010         21182.0             0.0      1.0  \n",
              "4  M1230701703             0.0             0.0      0.0  "
            ],
            "text/html": [
              "\n",
              "  <div id=\"df-c6026b59-b865-4ab0-a776-22943deb2713\">\n",
              "    <div class=\"colab-df-container\">\n",
              "      <div>\n",
              "<style scoped>\n",
              "    .dataframe tbody tr th:only-of-type {\n",
              "        vertical-align: middle;\n",
              "    }\n",
              "\n",
              "    .dataframe tbody tr th {\n",
              "        vertical-align: top;\n",
              "    }\n",
              "\n",
              "    .dataframe thead th {\n",
              "        text-align: right;\n",
              "    }\n",
              "</style>\n",
              "<table border=\"1\" class=\"dataframe\">\n",
              "  <thead>\n",
              "    <tr style=\"text-align: right;\">\n",
              "      <th></th>\n",
              "      <th>step</th>\n",
              "      <th>type</th>\n",
              "      <th>amount</th>\n",
              "      <th>nameOrig</th>\n",
              "      <th>oldbalanceOrg</th>\n",
              "      <th>newbalanceOrig</th>\n",
              "      <th>nameDest</th>\n",
              "      <th>oldbalanceDest</th>\n",
              "      <th>newbalanceDest</th>\n",
              "      <th>isFraud</th>\n",
              "    </tr>\n",
              "  </thead>\n",
              "  <tbody>\n",
              "    <tr>\n",
              "      <th>0</th>\n",
              "      <td>1</td>\n",
              "      <td>PAYMENT</td>\n",
              "      <td>9839.64</td>\n",
              "      <td>C1231006815</td>\n",
              "      <td>170136.0</td>\n",
              "      <td>160296.36</td>\n",
              "      <td>M1979787155</td>\n",
              "      <td>0.0</td>\n",
              "      <td>0.0</td>\n",
              "      <td>0.0</td>\n",
              "    </tr>\n",
              "    <tr>\n",
              "      <th>1</th>\n",
              "      <td>1</td>\n",
              "      <td>PAYMENT</td>\n",
              "      <td>1864.28</td>\n",
              "      <td>C1666544295</td>\n",
              "      <td>21249.0</td>\n",
              "      <td>19384.72</td>\n",
              "      <td>M2044282225</td>\n",
              "      <td>0.0</td>\n",
              "      <td>0.0</td>\n",
              "      <td>0.0</td>\n",
              "    </tr>\n",
              "    <tr>\n",
              "      <th>2</th>\n",
              "      <td>1</td>\n",
              "      <td>TRANSFER</td>\n",
              "      <td>181.00</td>\n",
              "      <td>C1305486145</td>\n",
              "      <td>181.0</td>\n",
              "      <td>0.00</td>\n",
              "      <td>C553264065</td>\n",
              "      <td>0.0</td>\n",
              "      <td>0.0</td>\n",
              "      <td>1.0</td>\n",
              "    </tr>\n",
              "    <tr>\n",
              "      <th>3</th>\n",
              "      <td>1</td>\n",
              "      <td>CASH_OUT</td>\n",
              "      <td>181.00</td>\n",
              "      <td>C840083671</td>\n",
              "      <td>181.0</td>\n",
              "      <td>0.00</td>\n",
              "      <td>C38997010</td>\n",
              "      <td>21182.0</td>\n",
              "      <td>0.0</td>\n",
              "      <td>1.0</td>\n",
              "    </tr>\n",
              "    <tr>\n",
              "      <th>4</th>\n",
              "      <td>1</td>\n",
              "      <td>PAYMENT</td>\n",
              "      <td>11668.14</td>\n",
              "      <td>C2048537720</td>\n",
              "      <td>41554.0</td>\n",
              "      <td>29885.86</td>\n",
              "      <td>M1230701703</td>\n",
              "      <td>0.0</td>\n",
              "      <td>0.0</td>\n",
              "      <td>0.0</td>\n",
              "    </tr>\n",
              "  </tbody>\n",
              "</table>\n",
              "</div>\n",
              "      <button class=\"colab-df-convert\" onclick=\"convertToInteractive('df-c6026b59-b865-4ab0-a776-22943deb2713')\"\n",
              "              title=\"Convert this dataframe to an interactive table.\"\n",
              "              style=\"display:none;\">\n",
              "        \n",
              "  <svg xmlns=\"http://www.w3.org/2000/svg\" height=\"24px\"viewBox=\"0 0 24 24\"\n",
              "       width=\"24px\">\n",
              "    <path d=\"M0 0h24v24H0V0z\" fill=\"none\"/>\n",
              "    <path d=\"M18.56 5.44l.94 2.06.94-2.06 2.06-.94-2.06-.94-.94-2.06-.94 2.06-2.06.94zm-11 1L8.5 8.5l.94-2.06 2.06-.94-2.06-.94L8.5 2.5l-.94 2.06-2.06.94zm10 10l.94 2.06.94-2.06 2.06-.94-2.06-.94-.94-2.06-.94 2.06-2.06.94z\"/><path d=\"M17.41 7.96l-1.37-1.37c-.4-.4-.92-.59-1.43-.59-.52 0-1.04.2-1.43.59L10.3 9.45l-7.72 7.72c-.78.78-.78 2.05 0 2.83L4 21.41c.39.39.9.59 1.41.59.51 0 1.02-.2 1.41-.59l7.78-7.78 2.81-2.81c.8-.78.8-2.07 0-2.86zM5.41 20L4 18.59l7.72-7.72 1.47 1.35L5.41 20z\"/>\n",
              "  </svg>\n",
              "      </button>\n",
              "      \n",
              "  <style>\n",
              "    .colab-df-container {\n",
              "      display:flex;\n",
              "      flex-wrap:wrap;\n",
              "      gap: 12px;\n",
              "    }\n",
              "\n",
              "    .colab-df-convert {\n",
              "      background-color: #E8F0FE;\n",
              "      border: none;\n",
              "      border-radius: 50%;\n",
              "      cursor: pointer;\n",
              "      display: none;\n",
              "      fill: #1967D2;\n",
              "      height: 32px;\n",
              "      padding: 0 0 0 0;\n",
              "      width: 32px;\n",
              "    }\n",
              "\n",
              "    .colab-df-convert:hover {\n",
              "      background-color: #E2EBFA;\n",
              "      box-shadow: 0px 1px 2px rgba(60, 64, 67, 0.3), 0px 1px 3px 1px rgba(60, 64, 67, 0.15);\n",
              "      fill: #174EA6;\n",
              "    }\n",
              "\n",
              "    [theme=dark] .colab-df-convert {\n",
              "      background-color: #3B4455;\n",
              "      fill: #D2E3FC;\n",
              "    }\n",
              "\n",
              "    [theme=dark] .colab-df-convert:hover {\n",
              "      background-color: #434B5C;\n",
              "      box-shadow: 0px 1px 3px 1px rgba(0, 0, 0, 0.15);\n",
              "      filter: drop-shadow(0px 1px 2px rgba(0, 0, 0, 0.3));\n",
              "      fill: #FFFFFF;\n",
              "    }\n",
              "  </style>\n",
              "\n",
              "      <script>\n",
              "        const buttonEl =\n",
              "          document.querySelector('#df-c6026b59-b865-4ab0-a776-22943deb2713 button.colab-df-convert');\n",
              "        buttonEl.style.display =\n",
              "          google.colab.kernel.accessAllowed ? 'block' : 'none';\n",
              "\n",
              "        async function convertToInteractive(key) {\n",
              "          const element = document.querySelector('#df-c6026b59-b865-4ab0-a776-22943deb2713');\n",
              "          const dataTable =\n",
              "            await google.colab.kernel.invokeFunction('convertToInteractive',\n",
              "                                                     [key], {});\n",
              "          if (!dataTable) return;\n",
              "\n",
              "          const docLinkHtml = 'Like what you see? Visit the ' +\n",
              "            '<a target=\"_blank\" href=https://colab.research.google.com/notebooks/data_table.ipynb>data table notebook</a>'\n",
              "            + ' to learn more about interactive tables.';\n",
              "          element.innerHTML = '';\n",
              "          dataTable['output_type'] = 'display_data';\n",
              "          await google.colab.output.renderOutput(dataTable, element);\n",
              "          const docLink = document.createElement('div');\n",
              "          docLink.innerHTML = docLinkHtml;\n",
              "          element.appendChild(docLink);\n",
              "        }\n",
              "      </script>\n",
              "    </div>\n",
              "  </div>\n",
              "  "
            ]
          },
          "metadata": {},
          "execution_count": 4
        }
      ],
      "source": [
        "data.head()"
      ]
    },
    {
      "cell_type": "code",
      "execution_count": null,
      "id": "ea92d5bc",
      "metadata": {
        "scrolled": true,
        "colab": {
          "base_uri": "https://localhost:8080/",
          "height": 206
        },
        "id": "ea92d5bc",
        "outputId": "e73ceb92-9a44-4de5-85ec-4286804d429e"
      },
      "outputs": [
        {
          "output_type": "execute_result",
          "data": {
            "text/plain": [
              "       step      type     amount     nameOrig  oldbalanceOrg  newbalanceOrig  \\\n",
              "45878     9  CASH_OUT  107864.89   C663156524        7436.00             0.0   \n",
              "45879     9   PAYMENT    5266.86  C2016876666           0.00             0.0   \n",
              "45880     9   PAYMENT   32640.97   C619628253       15743.42             0.0   \n",
              "45881     9   PAYMENT   15506.86  C1962229953           0.00             0.0   \n",
              "45882     9    TRANSF        NaN          NaN            NaN             NaN   \n",
              "\n",
              "          nameDest  oldbalanceDest  newbalanceDest  isFraud  \n",
              "45878  C1839337592      3478300.28      3586165.17      0.0  \n",
              "45879  M1469270881            0.00            0.00      0.0  \n",
              "45880   M876706555            0.00            0.00      0.0  \n",
              "45881   M972080509            0.00            0.00      0.0  \n",
              "45882          NaN             NaN             NaN      NaN  "
            ],
            "text/html": [
              "\n",
              "  <div id=\"df-89873e86-d083-4327-8d57-b896688274b7\">\n",
              "    <div class=\"colab-df-container\">\n",
              "      <div>\n",
              "<style scoped>\n",
              "    .dataframe tbody tr th:only-of-type {\n",
              "        vertical-align: middle;\n",
              "    }\n",
              "\n",
              "    .dataframe tbody tr th {\n",
              "        vertical-align: top;\n",
              "    }\n",
              "\n",
              "    .dataframe thead th {\n",
              "        text-align: right;\n",
              "    }\n",
              "</style>\n",
              "<table border=\"1\" class=\"dataframe\">\n",
              "  <thead>\n",
              "    <tr style=\"text-align: right;\">\n",
              "      <th></th>\n",
              "      <th>step</th>\n",
              "      <th>type</th>\n",
              "      <th>amount</th>\n",
              "      <th>nameOrig</th>\n",
              "      <th>oldbalanceOrg</th>\n",
              "      <th>newbalanceOrig</th>\n",
              "      <th>nameDest</th>\n",
              "      <th>oldbalanceDest</th>\n",
              "      <th>newbalanceDest</th>\n",
              "      <th>isFraud</th>\n",
              "    </tr>\n",
              "  </thead>\n",
              "  <tbody>\n",
              "    <tr>\n",
              "      <th>45878</th>\n",
              "      <td>9</td>\n",
              "      <td>CASH_OUT</td>\n",
              "      <td>107864.89</td>\n",
              "      <td>C663156524</td>\n",
              "      <td>7436.00</td>\n",
              "      <td>0.0</td>\n",
              "      <td>C1839337592</td>\n",
              "      <td>3478300.28</td>\n",
              "      <td>3586165.17</td>\n",
              "      <td>0.0</td>\n",
              "    </tr>\n",
              "    <tr>\n",
              "      <th>45879</th>\n",
              "      <td>9</td>\n",
              "      <td>PAYMENT</td>\n",
              "      <td>5266.86</td>\n",
              "      <td>C2016876666</td>\n",
              "      <td>0.00</td>\n",
              "      <td>0.0</td>\n",
              "      <td>M1469270881</td>\n",
              "      <td>0.00</td>\n",
              "      <td>0.00</td>\n",
              "      <td>0.0</td>\n",
              "    </tr>\n",
              "    <tr>\n",
              "      <th>45880</th>\n",
              "      <td>9</td>\n",
              "      <td>PAYMENT</td>\n",
              "      <td>32640.97</td>\n",
              "      <td>C619628253</td>\n",
              "      <td>15743.42</td>\n",
              "      <td>0.0</td>\n",
              "      <td>M876706555</td>\n",
              "      <td>0.00</td>\n",
              "      <td>0.00</td>\n",
              "      <td>0.0</td>\n",
              "    </tr>\n",
              "    <tr>\n",
              "      <th>45881</th>\n",
              "      <td>9</td>\n",
              "      <td>PAYMENT</td>\n",
              "      <td>15506.86</td>\n",
              "      <td>C1962229953</td>\n",
              "      <td>0.00</td>\n",
              "      <td>0.0</td>\n",
              "      <td>M972080509</td>\n",
              "      <td>0.00</td>\n",
              "      <td>0.00</td>\n",
              "      <td>0.0</td>\n",
              "    </tr>\n",
              "    <tr>\n",
              "      <th>45882</th>\n",
              "      <td>9</td>\n",
              "      <td>TRANSF</td>\n",
              "      <td>NaN</td>\n",
              "      <td>NaN</td>\n",
              "      <td>NaN</td>\n",
              "      <td>NaN</td>\n",
              "      <td>NaN</td>\n",
              "      <td>NaN</td>\n",
              "      <td>NaN</td>\n",
              "      <td>NaN</td>\n",
              "    </tr>\n",
              "  </tbody>\n",
              "</table>\n",
              "</div>\n",
              "      <button class=\"colab-df-convert\" onclick=\"convertToInteractive('df-89873e86-d083-4327-8d57-b896688274b7')\"\n",
              "              title=\"Convert this dataframe to an interactive table.\"\n",
              "              style=\"display:none;\">\n",
              "        \n",
              "  <svg xmlns=\"http://www.w3.org/2000/svg\" height=\"24px\"viewBox=\"0 0 24 24\"\n",
              "       width=\"24px\">\n",
              "    <path d=\"M0 0h24v24H0V0z\" fill=\"none\"/>\n",
              "    <path d=\"M18.56 5.44l.94 2.06.94-2.06 2.06-.94-2.06-.94-.94-2.06-.94 2.06-2.06.94zm-11 1L8.5 8.5l.94-2.06 2.06-.94-2.06-.94L8.5 2.5l-.94 2.06-2.06.94zm10 10l.94 2.06.94-2.06 2.06-.94-2.06-.94-.94-2.06-.94 2.06-2.06.94z\"/><path d=\"M17.41 7.96l-1.37-1.37c-.4-.4-.92-.59-1.43-.59-.52 0-1.04.2-1.43.59L10.3 9.45l-7.72 7.72c-.78.78-.78 2.05 0 2.83L4 21.41c.39.39.9.59 1.41.59.51 0 1.02-.2 1.41-.59l7.78-7.78 2.81-2.81c.8-.78.8-2.07 0-2.86zM5.41 20L4 18.59l7.72-7.72 1.47 1.35L5.41 20z\"/>\n",
              "  </svg>\n",
              "      </button>\n",
              "      \n",
              "  <style>\n",
              "    .colab-df-container {\n",
              "      display:flex;\n",
              "      flex-wrap:wrap;\n",
              "      gap: 12px;\n",
              "    }\n",
              "\n",
              "    .colab-df-convert {\n",
              "      background-color: #E8F0FE;\n",
              "      border: none;\n",
              "      border-radius: 50%;\n",
              "      cursor: pointer;\n",
              "      display: none;\n",
              "      fill: #1967D2;\n",
              "      height: 32px;\n",
              "      padding: 0 0 0 0;\n",
              "      width: 32px;\n",
              "    }\n",
              "\n",
              "    .colab-df-convert:hover {\n",
              "      background-color: #E2EBFA;\n",
              "      box-shadow: 0px 1px 2px rgba(60, 64, 67, 0.3), 0px 1px 3px 1px rgba(60, 64, 67, 0.15);\n",
              "      fill: #174EA6;\n",
              "    }\n",
              "\n",
              "    [theme=dark] .colab-df-convert {\n",
              "      background-color: #3B4455;\n",
              "      fill: #D2E3FC;\n",
              "    }\n",
              "\n",
              "    [theme=dark] .colab-df-convert:hover {\n",
              "      background-color: #434B5C;\n",
              "      box-shadow: 0px 1px 3px 1px rgba(0, 0, 0, 0.15);\n",
              "      filter: drop-shadow(0px 1px 2px rgba(0, 0, 0, 0.3));\n",
              "      fill: #FFFFFF;\n",
              "    }\n",
              "  </style>\n",
              "\n",
              "      <script>\n",
              "        const buttonEl =\n",
              "          document.querySelector('#df-89873e86-d083-4327-8d57-b896688274b7 button.colab-df-convert');\n",
              "        buttonEl.style.display =\n",
              "          google.colab.kernel.accessAllowed ? 'block' : 'none';\n",
              "\n",
              "        async function convertToInteractive(key) {\n",
              "          const element = document.querySelector('#df-89873e86-d083-4327-8d57-b896688274b7');\n",
              "          const dataTable =\n",
              "            await google.colab.kernel.invokeFunction('convertToInteractive',\n",
              "                                                     [key], {});\n",
              "          if (!dataTable) return;\n",
              "\n",
              "          const docLinkHtml = 'Like what you see? Visit the ' +\n",
              "            '<a target=\"_blank\" href=https://colab.research.google.com/notebooks/data_table.ipynb>data table notebook</a>'\n",
              "            + ' to learn more about interactive tables.';\n",
              "          element.innerHTML = '';\n",
              "          dataTable['output_type'] = 'display_data';\n",
              "          await google.colab.output.renderOutput(dataTable, element);\n",
              "          const docLink = document.createElement('div');\n",
              "          docLink.innerHTML = docLinkHtml;\n",
              "          element.appendChild(docLink);\n",
              "        }\n",
              "      </script>\n",
              "    </div>\n",
              "  </div>\n",
              "  "
            ]
          },
          "metadata": {},
          "execution_count": 5
        }
      ],
      "source": [
        "data.tail()"
      ]
    },
    {
      "cell_type": "markdown",
      "id": "ed54a543",
      "metadata": {
        "id": "ed54a543"
      },
      "source": [
        "Ma'lumotlar to'plami 3 kun: 20 soat ichida sodir bo'lgan tranzaksiyalarni o'z ichiga oladi"
      ]
    },
    {
      "cell_type": "code",
      "execution_count": null,
      "id": "e068a49b",
      "metadata": {
        "id": "e068a49b",
        "outputId": "96fd3063-037f-4482-9f45-2f7e87a9d75f"
      },
      "outputs": [
        {
          "data": {
            "text/html": [
              "<div>\n",
              "<style scoped>\n",
              "    .dataframe tbody tr th:only-of-type {\n",
              "        vertical-align: middle;\n",
              "    }\n",
              "\n",
              "    .dataframe tbody tr th {\n",
              "        vertical-align: top;\n",
              "    }\n",
              "\n",
              "    .dataframe thead th {\n",
              "        text-align: right;\n",
              "    }\n",
              "</style>\n",
              "<table border=\"1\" class=\"dataframe\">\n",
              "  <thead>\n",
              "    <tr style=\"text-align: right;\">\n",
              "      <th></th>\n",
              "      <th>step</th>\n",
              "      <th>amount</th>\n",
              "      <th>oldbalanceOrg</th>\n",
              "      <th>newbalanceOrig</th>\n",
              "      <th>oldbalanceDest</th>\n",
              "      <th>newbalanceDest</th>\n",
              "      <th>isFraud</th>\n",
              "    </tr>\n",
              "  </thead>\n",
              "  <tbody>\n",
              "    <tr>\n",
              "      <th>count</th>\n",
              "      <td>1.048575e+06</td>\n",
              "      <td>1.048575e+06</td>\n",
              "      <td>1.048575e+06</td>\n",
              "      <td>1.048575e+06</td>\n",
              "      <td>1.048575e+06</td>\n",
              "      <td>1.048575e+06</td>\n",
              "      <td>1.048575e+06</td>\n",
              "    </tr>\n",
              "    <tr>\n",
              "      <th>mean</th>\n",
              "      <td>2.696617e+01</td>\n",
              "      <td>1.586670e+05</td>\n",
              "      <td>8.740095e+05</td>\n",
              "      <td>8.938089e+05</td>\n",
              "      <td>9.781600e+05</td>\n",
              "      <td>1.114198e+06</td>\n",
              "      <td>1.089097e-03</td>\n",
              "    </tr>\n",
              "    <tr>\n",
              "      <th>std</th>\n",
              "      <td>1.562325e+01</td>\n",
              "      <td>2.649409e+05</td>\n",
              "      <td>2.971751e+06</td>\n",
              "      <td>3.008271e+06</td>\n",
              "      <td>2.296780e+06</td>\n",
              "      <td>2.416593e+06</td>\n",
              "      <td>3.298351e-02</td>\n",
              "    </tr>\n",
              "    <tr>\n",
              "      <th>min</th>\n",
              "      <td>1.000000e+00</td>\n",
              "      <td>1.000000e-01</td>\n",
              "      <td>0.000000e+00</td>\n",
              "      <td>0.000000e+00</td>\n",
              "      <td>0.000000e+00</td>\n",
              "      <td>0.000000e+00</td>\n",
              "      <td>0.000000e+00</td>\n",
              "    </tr>\n",
              "    <tr>\n",
              "      <th>25%</th>\n",
              "      <td>1.500000e+01</td>\n",
              "      <td>1.214907e+04</td>\n",
              "      <td>0.000000e+00</td>\n",
              "      <td>0.000000e+00</td>\n",
              "      <td>0.000000e+00</td>\n",
              "      <td>0.000000e+00</td>\n",
              "      <td>0.000000e+00</td>\n",
              "    </tr>\n",
              "    <tr>\n",
              "      <th>50%</th>\n",
              "      <td>2.000000e+01</td>\n",
              "      <td>7.634333e+04</td>\n",
              "      <td>1.600200e+04</td>\n",
              "      <td>0.000000e+00</td>\n",
              "      <td>1.263772e+05</td>\n",
              "      <td>2.182604e+05</td>\n",
              "      <td>0.000000e+00</td>\n",
              "    </tr>\n",
              "    <tr>\n",
              "      <th>75%</th>\n",
              "      <td>3.900000e+01</td>\n",
              "      <td>2.137619e+05</td>\n",
              "      <td>1.366420e+05</td>\n",
              "      <td>1.746000e+05</td>\n",
              "      <td>9.159235e+05</td>\n",
              "      <td>1.149808e+06</td>\n",
              "      <td>0.000000e+00</td>\n",
              "    </tr>\n",
              "    <tr>\n",
              "      <th>max</th>\n",
              "      <td>9.500000e+01</td>\n",
              "      <td>1.000000e+07</td>\n",
              "      <td>3.890000e+07</td>\n",
              "      <td>3.890000e+07</td>\n",
              "      <td>4.210000e+07</td>\n",
              "      <td>4.220000e+07</td>\n",
              "      <td>1.000000e+00</td>\n",
              "    </tr>\n",
              "  </tbody>\n",
              "</table>\n",
              "</div>"
            ],
            "text/plain": [
              "               step        amount  oldbalanceOrg  newbalanceOrig  \\\n",
              "count  1.048575e+06  1.048575e+06   1.048575e+06    1.048575e+06   \n",
              "mean   2.696617e+01  1.586670e+05   8.740095e+05    8.938089e+05   \n",
              "std    1.562325e+01  2.649409e+05   2.971751e+06    3.008271e+06   \n",
              "min    1.000000e+00  1.000000e-01   0.000000e+00    0.000000e+00   \n",
              "25%    1.500000e+01  1.214907e+04   0.000000e+00    0.000000e+00   \n",
              "50%    2.000000e+01  7.634333e+04   1.600200e+04    0.000000e+00   \n",
              "75%    3.900000e+01  2.137619e+05   1.366420e+05    1.746000e+05   \n",
              "max    9.500000e+01  1.000000e+07   3.890000e+07    3.890000e+07   \n",
              "\n",
              "       oldbalanceDest  newbalanceDest       isFraud  \n",
              "count    1.048575e+06    1.048575e+06  1.048575e+06  \n",
              "mean     9.781600e+05    1.114198e+06  1.089097e-03  \n",
              "std      2.296780e+06    2.416593e+06  3.298351e-02  \n",
              "min      0.000000e+00    0.000000e+00  0.000000e+00  \n",
              "25%      0.000000e+00    0.000000e+00  0.000000e+00  \n",
              "50%      1.263772e+05    2.182604e+05  0.000000e+00  \n",
              "75%      9.159235e+05    1.149808e+06  0.000000e+00  \n",
              "max      4.210000e+07    4.220000e+07  1.000000e+00  "
            ]
          },
          "execution_count": 11,
          "metadata": {},
          "output_type": "execute_result"
        }
      ],
      "source": [
        "data.describe()"
      ]
    },
    {
      "cell_type": "code",
      "execution_count": null,
      "id": "d401d194",
      "metadata": {
        "id": "d401d194",
        "outputId": "3ff781e4-786d-42b6-f16b-c7c9336af8ca"
      },
      "outputs": [
        {
          "data": {
            "text/plain": [
              "Index(['step', 'type', 'amount', 'nameOrig', 'oldbalanceOrg', 'newbalanceOrig',\n",
              "       'nameDest', 'oldbalanceDest', 'newbalanceDest', 'isFraud'],\n",
              "      dtype='object')"
            ]
          },
          "execution_count": 12,
          "metadata": {},
          "output_type": "execute_result"
        }
      ],
      "source": [
        "data.columns"
      ]
    },
    {
      "cell_type": "code",
      "execution_count": null,
      "id": "7be5c239",
      "metadata": {
        "id": "7be5c239",
        "outputId": "12f96bf7-f04e-4a74-87c5-5663b00d8211"
      },
      "outputs": [
        {
          "name": "stdout",
          "output_type": "stream",
          "text": [
            "<class 'pandas.core.frame.DataFrame'>\n",
            "RangeIndex: 1048575 entries, 0 to 1048574\n",
            "Data columns (total 10 columns):\n",
            " #   Column          Non-Null Count    Dtype  \n",
            "---  ------          --------------    -----  \n",
            " 0   step            1048575 non-null  int64  \n",
            " 1   type            1048575 non-null  object \n",
            " 2   amount          1048575 non-null  float64\n",
            " 3   nameOrig        1048575 non-null  object \n",
            " 4   oldbalanceOrg   1048575 non-null  float64\n",
            " 5   newbalanceOrig  1048575 non-null  float64\n",
            " 6   nameDest        1048575 non-null  object \n",
            " 7   oldbalanceDest  1048575 non-null  float64\n",
            " 8   newbalanceDest  1048575 non-null  float64\n",
            " 9   isFraud         1048575 non-null  int64  \n",
            "dtypes: float64(5), int64(2), object(3)\n",
            "memory usage: 80.0+ MB\n"
          ]
        }
      ],
      "source": [
        "data.info()"
      ]
    },
    {
      "cell_type": "code",
      "execution_count": null,
      "id": "ded800f6",
      "metadata": {
        "id": "ded800f6",
        "outputId": "5fe72e34-abe0-4908-b1d8-94b6778dccfb"
      },
      "outputs": [
        {
          "data": {
            "text/plain": [
              "step                int64\n",
              "type               object\n",
              "amount            float64\n",
              "nameOrig           object\n",
              "oldbalanceOrg     float64\n",
              "newbalanceOrig    float64\n",
              "nameDest           object\n",
              "oldbalanceDest    float64\n",
              "newbalanceDest    float64\n",
              "isFraud             int64\n",
              "dtype: object"
            ]
          },
          "execution_count": 14,
          "metadata": {},
          "output_type": "execute_result"
        }
      ],
      "source": [
        "data.dtypes"
      ]
    },
    {
      "cell_type": "code",
      "execution_count": 5,
      "id": "c69fe041",
      "metadata": {
        "id": "c69fe041",
        "outputId": "a762316d-8925-4602-85f3-85a92675d3b8",
        "colab": {
          "base_uri": "https://localhost:8080/"
        }
      },
      "outputs": [
        {
          "output_type": "execute_result",
          "data": {
            "text/plain": [
              "step              0\n",
              "type              0\n",
              "amount            0\n",
              "nameOrig          0\n",
              "oldbalanceOrg     1\n",
              "newbalanceOrig    1\n",
              "nameDest          1\n",
              "oldbalanceDest    1\n",
              "newbalanceDest    1\n",
              "isFraud           1\n",
              "dtype: int64"
            ]
          },
          "metadata": {},
          "execution_count": 5
        }
      ],
      "source": [
        "\n",
        "\n",
        "data.isna().sum()"
      ]
    },
    {
      "cell_type": "markdown",
      "id": "afb27bbe",
      "metadata": {
        "id": "afb27bbe"
      },
      "source": [
        "No Missing Data"
      ]
    },
    {
      "cell_type": "markdown",
      "id": "b274548b",
      "metadata": {
        "id": "b274548b"
      },
      "source": [
        "## Relationships and Insights\n",
        "\n"
      ]
    },
    {
      "cell_type": "code",
      "execution_count": 6,
      "id": "c95ee9e4",
      "metadata": {
        "id": "c95ee9e4",
        "outputId": "98a6142b-4166-4a04-eae4-6538f426fc68",
        "colab": {
          "base_uri": "https://localhost:8080/"
        }
      },
      "outputs": [
        {
          "output_type": "execute_result",
          "data": {
            "text/plain": [
              "array(['M1979787155', 'M2044282225', 'C553264065', ..., 'M1479336724',\n",
              "       'M124471510', nan], dtype=object)"
            ]
          },
          "metadata": {},
          "execution_count": 6
        }
      ],
      "source": [
        "#Qabul qiluvchi ajralib turishi tekshiramiz \n",
        "\n",
        "data.nameDest.unique()"
      ]
    },
    {
      "cell_type": "code",
      "execution_count": null,
      "id": "6ba61bb2",
      "metadata": {
        "id": "6ba61bb2",
        "outputId": "066781e2-a60e-48cc-83b9-df2f95a689b6"
      },
      "outputs": [
        {
          "data": {
            "text/plain": [
              "array(['C1231006815', 'C1666544295', 'C1305486145', ..., 'C2037964975',\n",
              "       'C1633237354', 'C1264356443'], dtype=object)"
            ]
          },
          "execution_count": 17,
          "metadata": {},
          "output_type": "execute_result"
        }
      ],
      "source": [
        "\n",
        "data.nameOrig.unique()"
      ]
    },
    {
      "cell_type": "code",
      "execution_count": null,
      "id": "00f2fc6b",
      "metadata": {
        "id": "00f2fc6b",
        "outputId": "b820d70f-dbc8-47be-fb31-16ccc7cec75b"
      },
      "outputs": [
        {
          "data": {
            "text/plain": [
              "C1214450722    2\n",
              "C309111136     2\n",
              "C1268675361    2\n",
              "C720460198     2\n",
              "C1109092856    2\n",
              "              ..\n",
              "C560131732     1\n",
              "C455251560     1\n",
              "C650578540     1\n",
              "C1883668225    1\n",
              "C1264356443    1\n",
              "Name: nameOrig, Length: 1048317, dtype: int64"
            ]
          },
          "execution_count": 18,
          "metadata": {},
          "output_type": "execute_result"
        }
      ],
      "source": [
        "\n",
        "data.nameOrig.value_counts()"
      ]
    },
    {
      "cell_type": "code",
      "execution_count": 7,
      "id": "7be6ab61",
      "metadata": {
        "id": "7be6ab61",
        "outputId": "350b2fe8-c98e-4dca-cd73-508fe159c7da",
        "colab": {
          "base_uri": "https://localhost:8080/"
        }
      },
      "outputs": [
        {
          "output_type": "execute_result",
          "data": {
            "text/plain": [
              "C985934102     71\n",
              "C1286084959    62\n",
              "C1590550415    60\n",
              "C2083562754    60\n",
              "C977993101     58\n",
              "               ..\n",
              "M2120220238     1\n",
              "M1967442274     1\n",
              "M1012264852     1\n",
              "M949085832      1\n",
              "M124471510      1\n",
              "Name: nameDest, Length: 18094, dtype: int64"
            ]
          },
          "metadata": {},
          "execution_count": 7
        }
      ],
      "source": [
        "#qancha tranzaksiya olganini tekshirish\n",
        "data.nameDest.value_counts()"
      ]
    },
    {
      "cell_type": "code",
      "execution_count": null,
      "id": "0284a098",
      "metadata": {
        "id": "0284a098",
        "outputId": "50c4d5b8-ac93-48d6-e42a-7ec78e92712d"
      },
      "outputs": [
        {
          "data": {
            "text/plain": [
              "10000000.0"
            ]
          },
          "execution_count": 20,
          "metadata": {},
          "output_type": "execute_result"
        }
      ],
      "source": [
        "data.amount.max()"
      ]
    },
    {
      "cell_type": "code",
      "execution_count": 8,
      "id": "386c5fe1",
      "metadata": {
        "colab": {
          "base_uri": "https://localhost:8080/",
          "height": 248
        },
        "id": "386c5fe1",
        "outputId": "a5352201-d121-42ba-bb64-765585f2be8d"
      },
      "outputs": [
        {
          "output_type": "display_data",
          "data": {
            "text/plain": [
              "<Figure size 432x288 with 1 Axes>"
            ],
            "image/png": "[encoded data removed]"
          },
          "metadata": {}
        }
      ],
      "source": [
        "#Amalga oshirilgan operatsiyalar turini taqsimlashni tekshirish\n",
        "\n",
        "labels = data['type'].astype('category').cat.categories.tolist()\n",
        "counts = data['type'].value_counts()\n",
        "sizes = [counts[var_cat] for var_cat in labels]\n",
        "fig1, ax1 = plt.subplots()\n",
        "ax1.pie(sizes, labels=labels, autopct='%1.1f%%', shadow=True) \n",
        "ax1.axis('equal')\n",
        "plt.show()"
      ]
    },
    {
      "cell_type": "code",
      "execution_count": 10,
      "id": "ada797f4",
      "metadata": {
        "id": "ada797f4",
        "outputId": "f267e4ee-c81b-4259-cfd6-84216ced4c98",
        "colab": {
          "base_uri": "https://localhost:8080/"
        }
      },
      "outputs": [
        {
          "output_type": "execute_result",
          "data": {
            "text/plain": [
              "PAYMENT     14790\n",
              "CASH_OUT     6811\n",
              "CASH_IN      5647\n",
              "TRANSFER     2927\n",
              "DEBIT         532\n",
              "Name: type, dtype: int64"
            ]
          },
          "metadata": {},
          "execution_count": 10
        }
      ],
      "source": [
        "#Bir xil  turdagi operatsiya necha marta amalga oshirilganligini tekshirish. \n",
        "\n",
        "data.type.value_counts()"
      ]
    },
    {
      "cell_type": "code",
      "execution_count": 13,
      "id": "df2ef24d",
      "metadata": {
        "id": "df2ef24d",
        "outputId": "665aa1a5-3803-469a-a0eb-4791d51d926c",
        "colab": {
          "base_uri": "https://localhost:8080/"
        }
      },
      "outputs": [
        {
          "output_type": "execute_result",
          "data": {
            "text/plain": [
              "nameOrig\n",
              "C672447289     TRANSFER\n",
              "C203149502     TRANSFER\n",
              "C2027645838    TRANSFER\n",
              "C1235600263    TRANSFER\n",
              "C1583082378    TRANSFER\n",
              "C1235787497    TRANSFER\n",
              "C2028160153    TRANSFER\n",
              "C2028163846    TRANSFER\n",
              "C649630909     TRANSFER\n",
              "C1582921957    TRANSFER\n",
              "Name: type, dtype: object"
            ]
          },
          "metadata": {},
          "execution_count": 13
        }
      ],
      "source": [
        "#Eng yaxshi mijozlarni va ular boshlagan tranzaktsiyalar turini o'rganish\n",
        "top_ten = data.groupby('nameOrig').type.sum().sort_values(ascending=False)[:10]\n",
        "top_ten"
      ]
    },
    {
      "cell_type": "code",
      "execution_count": 15,
      "id": "e27d033f",
      "metadata": {
        "id": "e27d033f",
        "outputId": "33e4d1cd-682f-4159-89f4-37ad5c6e3c14",
        "colab": {
          "base_uri": "https://localhost:8080/"
        }
      },
      "outputs": [
        {
          "output_type": "execute_result",
          "data": {
            "text/plain": [
              "138297.2659794184"
            ]
          },
          "metadata": {},
          "execution_count": 15
        }
      ],
      "source": [
        "#O'tkazilgan o'rtacha miqdorni tekshirish\n",
        "data['amount'].mean()"
      ]
    },
    {
      "cell_type": "code",
      "execution_count": 16,
      "id": "37a0be48",
      "metadata": {
        "id": "37a0be48",
        "outputId": "d5930b8b-c934-4417-b8a2-018c3ca5825b",
        "colab": {
          "base_uri": "https://localhost:8080/",
          "height": 270
        }
      },
      "outputs": [
        {
          "output_type": "display_data",
          "data": {
            "text/plain": [
              "<Figure size 432x288 with 1 Axes>"
            ],
            "image/png": "[encoded data removed]"
          },
          "metadata": {
            "needs_background": "light"
          }
        }
      ],
      "source": [
        "sns.boxplot(y=data.step)\n",
        "plt.title('Tranzaktsiya vaqti ')\n",
        "plt.ylim(0,100)\n",
        "plt.show()"
      ]
    },
    {
      "cell_type": "code",
      "execution_count": 11,
      "id": "525e763b",
      "metadata": {
        "id": "525e763b",
        "outputId": "d7539250-755b-4775-8f78-15a26ff9459f",
        "colab": {
          "base_uri": "https://localhost:8080/",
          "height": 270
        }
      },
      "outputs": [
        {
          "output_type": "display_data",
          "data": {
            "text/plain": [
              "<Figure size 432x288 with 1 Axes>"
            ],
            "image/png": "[encoded data removed]"
          },
          "metadata": {
            "needs_background": "light"
          }
        }
      ],
      "source": [
        "sns.boxplot(y=data.amount)\n",
        "plt.title(\"O'tkazilgan summalar \")\n",
        "plt.ylim(0,1000000)\n",
        "plt.show()"
      ]
    },
    {
      "cell_type": "code",
      "execution_count": 19,
      "id": "f2e71315",
      "metadata": {
        "id": "f2e71315",
        "outputId": "7659fd97-b0d9-47af-f2e6-793eca5c7865",
        "colab": {
          "base_uri": "https://localhost:8080/",
          "height": 270
        }
      },
      "outputs": [
        {
          "output_type": "display_data",
          "data": {
            "text/plain": [
              "<Figure size 432x288 with 1 Axes>"
            ],
            "image/png": "[encoded data removed]"
          },
          "metadata": {
            "needs_background": "light"
          }
        }
      ],
      "source": [
        "sns.boxplot(y=data.isFraud)\n",
        "plt.title('Fraud Profile')\n",
        "plt.ylim(-1,1)\n",
        "plt.show()"
      ]
    },
    {
      "cell_type": "code",
      "execution_count": 20,
      "id": "8e7adc81",
      "metadata": {
        "id": "8e7adc81",
        "outputId": "5b72f632-8694-4082-a86f-bafbb95a99d6",
        "colab": {
          "base_uri": "https://localhost:8080/",
          "height": 917
        }
      },
      "outputs": [
        {
          "output_type": "execute_result",
          "data": {
            "text/plain": [
              "<seaborn.axisgrid.PairGrid at 0x7f0fef39ae90>"
            ]
          },
          "metadata": {},
          "execution_count": 20
        },
        {
          "output_type": "display_data",
          "data": {
            "text/plain": [
              "<Figure size 951.875x900 with 30 Axes>"
            ],
            "image/png": "[encoded data removed]"
          },
          "metadata": {
            "needs_background": "light"
          }
        }
      ],
      "source": [
        "#Visualising the spread of fraud variables across the dataset\n",
        "\n",
        "Online_Payment_layout = sns.PairGrid(data, vars = ['step', 'oldbalanceOrg', 'newbalanceOrig', 'oldbalanceDest', 'newbalanceDest'], hue = 'isFraud')\n",
        "\n",
        "Online_Payment_layout.map_diag(plt.hist, alpha = 0.6)\n",
        "Online_Payment_layout.map_offdiag(plt.scatter, alpha = 0.5)\n",
        "Online_Payment_layout.add_legend()"
      ]
    },
    {
      "cell_type": "code",
      "execution_count": 21,
      "id": "7460f48c",
      "metadata": {
        "id": "7460f48c",
        "outputId": "cdb67efd-c189-4422-e316-6f36412cacf9",
        "colab": {
          "base_uri": "https://localhost:8080/",
          "height": 279
        }
      },
      "outputs": [
        {
          "output_type": "display_data",
          "data": {
            "text/plain": [
              "<Figure size 432x288 with 1 Axes>"
            ],
            "image/png": "[encoded data removed]"
          },
          "metadata": {
            "needs_background": "light"
          }
        }
      ],
      "source": [
        "sns.barplot(x='amount', y='type', hue= 'isFraud', data=data)\n",
        "plt.show()"
      ]
    },
    {
      "cell_type": "code",
      "execution_count": 22,
      "id": "ae8fbcc8",
      "metadata": {
        "id": "ae8fbcc8",
        "outputId": "08cdc04b-ba15-463f-a67a-09b69a75ab93",
        "colab": {
          "base_uri": "https://localhost:8080/",
          "height": 387
        }
      },
      "outputs": [
        {
          "output_type": "execute_result",
          "data": {
            "text/plain": [
              "(0.0, 2000000.0)"
            ]
          },
          "metadata": {},
          "execution_count": 22
        },
        {
          "output_type": "display_data",
          "data": {
            "text/plain": [
              "<Figure size 360x360 with 1 Axes>"
            ],
            "image/png": "[encoded data removed]"
          },
          "metadata": {
            "needs_background": "light"
          }
        }
      ],
      "source": [
        "\n",
        "sns.catplot(data=data,kind='box')\n",
        "\n",
        "plt.ylim(0,2000000)"
      ]
    },
    {
      "cell_type": "code",
      "execution_count": 23,
      "id": "afdc1f4c",
      "metadata": {
        "id": "afdc1f4c",
        "outputId": "84f7870a-c9b1-40f1-ff28-dce749053cc3",
        "colab": {
          "base_uri": "https://localhost:8080/",
          "height": 248
        }
      },
      "outputs": [
        {
          "output_type": "display_data",
          "data": {
            "text/plain": [
              "<Figure size 432x288 with 1 Axes>"
            ],
            "image/png": "[encoded data removed]"
          },
          "metadata": {}
        }
      ],
      "source": [
        "\n",
        "\n",
        "labels = data['isFraud'].astype('category').cat.categories.tolist()\n",
        "counts = data['isFraud'].value_counts()\n",
        "sizes = [counts[var_cat] for var_cat in labels]\n",
        "fig1, ax1 = plt.subplots()\n",
        "ax1.pie(sizes, labels=labels, autopct='%1.1f%%', shadow=True) \n",
        "ax1.axis('equal')\n",
        "plt.show()"
      ]
    },
    {
      "cell_type": "code",
      "execution_count": 24,
      "id": "97c5f94a",
      "metadata": {
        "id": "97c5f94a"
      },
      "outputs": [],
      "source": [
        "# Firibgar tranzaksiyani firibgarlikdan ajratish\n",
        "\n",
        "Fraudulent_Transaction = data[data.isFraud ==1]\n",
        "Not_Fraudulent_Transaction = data[data.isFraud ==0]"
      ]
    },
    {
      "cell_type": "code",
      "execution_count": 25,
      "id": "71ee0f6e",
      "metadata": {
        "id": "71ee0f6e",
        "outputId": "e3bde6af-24cd-4e18-f999-1ded02740cef",
        "colab": {
          "base_uri": "https://localhost:8080/"
        }
      },
      "outputs": [
        {
          "output_type": "stream",
          "name": "stdout",
          "text": [
            "Fraudulent Transaction: 84\n",
            "Not Fraudulent Transaction: 30622\n"
          ]
        }
      ],
      "source": [
        "print('Fraudulent Transaction: {}'.format(len(Fraudulent_Transaction)))\n",
        "print('Not Fraudulent Transaction: {}'.format(len(Not_Fraudulent_Transaction)))\n",
        "   "
      ]
    },
    {
      "cell_type": "markdown",
      "id": "5f0d109a",
      "metadata": {
        "id": "5f0d109a"
      },
      "source": [
        "Ma'lumotlar to'plami og'irligini ko'rsatadi 'Class-imbalance'"
      ]
    },
    {
      "cell_type": "code",
      "execution_count": 27,
      "id": "8685ed2b",
      "metadata": {
        "id": "8685ed2b",
        "outputId": "26398708-00f1-4e80-b5d3-b63854974893",
        "colab": {
          "base_uri": "https://localhost:8080/"
        }
      },
      "outputs": [
        {
          "output_type": "execute_result",
          "data": {
            "text/plain": [
              "count    3.062200e+04\n",
              "mean     1.370667e+05\n",
              "std      2.884325e+05\n",
              "min      1.770000e+00\n",
              "25%      6.142740e+03\n",
              "50%      2.128877e+04\n",
              "75%      1.632656e+05\n",
              "max      5.677662e+06\n",
              "Name: amount, dtype: float64"
            ]
          },
          "metadata": {},
          "execution_count": 27
        }
      ],
      "source": [
        "#Firibgar bo'lmagan operatsiyalarning statistik mohiyatini tushunish.\n",
        "\n",
        "Not_Fraudulent_Transaction.amount.describe()"
      ]
    },
    {
      "cell_type": "code",
      "execution_count": 28,
      "id": "d78673c1",
      "metadata": {
        "id": "d78673c1",
        "outputId": "7a414c06-38f5-4e9c-e8eb-6e5037b7e02f",
        "colab": {
          "base_uri": "https://localhost:8080/"
        }
      },
      "outputs": [
        {
          "output_type": "execute_result",
          "data": {
            "text/plain": [
              "count    8.400000e+01\n",
              "mean     5.884468e+05\n",
              "std      1.761343e+06\n",
              "min      1.640000e+02\n",
              "25%      1.370711e+04\n",
              "50%      2.637218e+04\n",
              "75%      2.164220e+05\n",
              "max      1.000000e+07\n",
              "Name: amount, dtype: float64"
            ]
          },
          "metadata": {},
          "execution_count": 28
        }
      ],
      "source": [
        "#Firibgarlik operatsiyalarining statistik mohiyatini tushunish.\n",
        "\n",
        "Fraudulent_Transaction.amount.describe()"
      ]
    },
    {
      "cell_type": "code",
      "execution_count": 29,
      "id": "9c4b7693",
      "metadata": {
        "id": "9c4b7693",
        "outputId": "ae901fbe-c8bf-4c8b-95e1-7c458803669a",
        "colab": {
          "base_uri": "https://localhost:8080/",
          "height": 143
        }
      },
      "outputs": [
        {
          "output_type": "execute_result",
          "data": {
            "text/plain": [
              "             step         amount  oldbalanceOrg  newbalanceOrig  \\\n",
              "isFraud                                                           \n",
              "0.0      6.631115  137066.652791  860197.721701   878094.418009   \n",
              "1.0      4.500000  588446.793095  601493.379286    34885.933810   \n",
              "\n",
              "         oldbalanceDest  newbalanceDest  \n",
              "isFraud                                  \n",
              "0.0       869332.794836    1.194580e+06  \n",
              "1.0       208636.541905    6.973851e+05  "
            ],
            "text/html": [
              "\n",
              "  <div id=\"df-54434311-3eb0-4df8-b78b-3c6d4f10ebf0\">\n",
              "    <div class=\"colab-df-container\">\n",
              "      <div>\n",
              "<style scoped>\n",
              "    .dataframe tbody tr th:only-of-type {\n",
              "        vertical-align: middle;\n",
              "    }\n",
              "\n",
              "    .dataframe tbody tr th {\n",
              "        vertical-align: top;\n",
              "    }\n",
              "\n",
              "    .dataframe thead th {\n",
              "        text-align: right;\n",
              "    }\n",
              "</style>\n",
              "<table border=\"1\" class=\"dataframe\">\n",
              "  <thead>\n",
              "    <tr style=\"text-align: right;\">\n",
              "      <th></th>\n",
              "      <th>step</th>\n",
              "      <th>amount</th>\n",
              "      <th>oldbalanceOrg</th>\n",
              "      <th>newbalanceOrig</th>\n",
              "      <th>oldbalanceDest</th>\n",
              "      <th>newbalanceDest</th>\n",
              "    </tr>\n",
              "    <tr>\n",
              "      <th>isFraud</th>\n",
              "      <th></th>\n",
              "      <th></th>\n",
              "      <th></th>\n",
              "      <th></th>\n",
              "      <th></th>\n",
              "      <th></th>\n",
              "    </tr>\n",
              "  </thead>\n",
              "  <tbody>\n",
              "    <tr>\n",
              "      <th>0.0</th>\n",
              "      <td>6.631115</td>\n",
              "      <td>137066.652791</td>\n",
              "      <td>860197.721701</td>\n",
              "      <td>878094.418009</td>\n",
              "      <td>869332.794836</td>\n",
              "      <td>1.194580e+06</td>\n",
              "    </tr>\n",
              "    <tr>\n",
              "      <th>1.0</th>\n",
              "      <td>4.500000</td>\n",
              "      <td>588446.793095</td>\n",
              "      <td>601493.379286</td>\n",
              "      <td>34885.933810</td>\n",
              "      <td>208636.541905</td>\n",
              "      <td>6.973851e+05</td>\n",
              "    </tr>\n",
              "  </tbody>\n",
              "</table>\n",
              "</div>\n",
              "      <button class=\"colab-df-convert\" onclick=\"convertToInteractive('df-54434311-3eb0-4df8-b78b-3c6d4f10ebf0')\"\n",
              "              title=\"Convert this dataframe to an interactive table.\"\n",
              "              style=\"display:none;\">\n",
              "        \n",
              "  <svg xmlns=\"http://www.w3.org/2000/svg\" height=\"24px\"viewBox=\"0 0 24 24\"\n",
              "       width=\"24px\">\n",
              "    <path d=\"M0 0h24v24H0V0z\" fill=\"none\"/>\n",
              "    <path d=\"M18.56 5.44l.94 2.06.94-2.06 2.06-.94-2.06-.94-.94-2.06-.94 2.06-2.06.94zm-11 1L8.5 8.5l.94-2.06 2.06-.94-2.06-.94L8.5 2.5l-.94 2.06-2.06.94zm10 10l.94 2.06.94-2.06 2.06-.94-2.06-.94-.94-2.06-.94 2.06-2.06.94z\"/><path d=\"M17.41 7.96l-1.37-1.37c-.4-.4-.92-.59-1.43-.59-.52 0-1.04.2-1.43.59L10.3 9.45l-7.72 7.72c-.78.78-.78 2.05 0 2.83L4 21.41c.39.39.9.59 1.41.59.51 0 1.02-.2 1.41-.59l7.78-7.78 2.81-2.81c.8-.78.8-2.07 0-2.86zM5.41 20L4 18.59l7.72-7.72 1.47 1.35L5.41 20z\"/>\n",
              "  </svg>\n",
              "      </button>\n",
              "      \n",
              "  <style>\n",
              "    .colab-df-container {\n",
              "      display:flex;\n",
              "      flex-wrap:wrap;\n",
              "      gap: 12px;\n",
              "    }\n",
              "\n",
              "    .colab-df-convert {\n",
              "      background-color: #E8F0FE;\n",
              "      border: none;\n",
              "      border-radius: 50%;\n",
              "      cursor: pointer;\n",
              "      display: none;\n",
              "      fill: #1967D2;\n",
              "      height: 32px;\n",
              "      padding: 0 0 0 0;\n",
              "      width: 32px;\n",
              "    }\n",
              "\n",
              "    .colab-df-convert:hover {\n",
              "      background-color: #E2EBFA;\n",
              "      box-shadow: 0px 1px 2px rgba(60, 64, 67, 0.3), 0px 1px 3px 1px rgba(60, 64, 67, 0.15);\n",
              "      fill: #174EA6;\n",
              "    }\n",
              "\n",
              "    [theme=dark] .colab-df-convert {\n",
              "      background-color: #3B4455;\n",
              "      fill: #D2E3FC;\n",
              "    }\n",
              "\n",
              "    [theme=dark] .colab-df-convert:hover {\n",
              "      background-color: #434B5C;\n",
              "      box-shadow: 0px 1px 3px 1px rgba(0, 0, 0, 0.15);\n",
              "      filter: drop-shadow(0px 1px 2px rgba(0, 0, 0, 0.3));\n",
              "      fill: #FFFFFF;\n",
              "    }\n",
              "  </style>\n",
              "\n",
              "      <script>\n",
              "        const buttonEl =\n",
              "          document.querySelector('#df-54434311-3eb0-4df8-b78b-3c6d4f10ebf0 button.colab-df-convert');\n",
              "        buttonEl.style.display =\n",
              "          google.colab.kernel.accessAllowed ? 'block' : 'none';\n",
              "\n",
              "        async function convertToInteractive(key) {\n",
              "          const element = document.querySelector('#df-54434311-3eb0-4df8-b78b-3c6d4f10ebf0');\n",
              "          const dataTable =\n",
              "            await google.colab.kernel.invokeFunction('convertToInteractive',\n",
              "                                                     [key], {});\n",
              "          if (!dataTable) return;\n",
              "\n",
              "          const docLinkHtml = 'Like what you see? Visit the ' +\n",
              "            '<a target=\"_blank\" href=https://colab.research.google.com/notebooks/data_table.ipynb>data table notebook</a>'\n",
              "            + ' to learn more about interactive tables.';\n",
              "          element.innerHTML = '';\n",
              "          dataTable['output_type'] = 'display_data';\n",
              "          await google.colab.output.renderOutput(dataTable, element);\n",
              "          const docLink = document.createElement('div');\n",
              "          docLink.innerHTML = docLinkHtml;\n",
              "          element.appendChild(docLink);\n",
              "        }\n",
              "      </script>\n",
              "    </div>\n",
              "  </div>\n",
              "  "
            ]
          },
          "metadata": {},
          "execution_count": 29
        }
      ],
      "source": [
        "#Har ikki toifadagi operatsiyalarni solishtirish\n",
        "data.groupby('isFraud').mean()"
      ]
    },
    {
      "cell_type": "markdown",
      "id": "19ba9ed6",
      "metadata": {
        "id": "19ba9ed6"
      },
      "source": [
        "# Undersampling\n",
        " "
      ]
    },
    {
      "cell_type": "markdown",
      "id": "2b1ad2f4",
      "metadata": {
        "id": "2b1ad2f4"
      },
      "source": [
        "Firibgar bo'lmagan tranzaksiyalar va firibgarlik tranzaksiyalarining o'xshash taqsimotini o'z ichiga olgan namunaviy ma'lumotlar to'plamini yaratish. Bu sinfdagi nomutanosiblikni tuzatadi va bizning mashinani o'rganish modelimizga yaxshiroq bashorat qilishga yordam beradi.\n",
        "\n",
        "Biz firibgarlikni aniqlaydigan modelni yaratmoqchi bo'lganimiz sababli, biz namuna olishimizda asl ma'lumotlar to'plamimizdagi firibgarlik deb tasniflangan tranzaktsiyalar soniga asoslanamiz.\n",
        "\n",
        "Firibgarlik operatsiyalari: 1142"
      ]
    },
    {
      "cell_type": "code",
      "execution_count": 30,
      "id": "f5448755",
      "metadata": {
        "id": "f5448755"
      },
      "outputs": [],
      "source": [
        "Non_Fraudulent_Sample = Not_Fraudulent_Transaction.sample(n=1142)"
      ]
    },
    {
      "cell_type": "markdown",
      "id": "5c4f6df7",
      "metadata": {
        "id": "5c4f6df7"
      },
      "source": [
        "Ikki dataframeni birlashtirish"
      ]
    },
    {
      "cell_type": "code",
      "execution_count": 32,
      "id": "cc6cfcd0",
      "metadata": {
        "id": "cc6cfcd0"
      },
      "outputs": [],
      "source": [
        "new_dataset = pd.concat([Non_Fraudulent_Sample, Fraudulent_Transaction], axis=0)"
      ]
    },
    {
      "cell_type": "code",
      "execution_count": 33,
      "id": "9c5b5b59",
      "metadata": {
        "id": "9c5b5b59",
        "outputId": "76edfac7-a4ec-49ec-bac0-6f3580fc9f3a",
        "colab": {
          "base_uri": "https://localhost:8080/",
          "height": 206
        }
      },
      "outputs": [
        {
          "output_type": "execute_result",
          "data": {
            "text/plain": [
              "       step      type     amount     nameOrig  oldbalanceOrg  newbalanceOrig  \\\n",
              "23092     8   CASH_IN  281736.24  C1549259051     3040331.98      3322068.22   \n",
              "16629     8  TRANSFER  614556.68  C1083749100         526.00            0.00   \n",
              "8583      7   CASH_IN   32512.41  C1936634530     4125948.97      4158461.38   \n",
              "15223     8   PAYMENT   11452.68  C1755444189       49896.93        38444.25   \n",
              "17755     8  CASH_OUT  418626.26  C1514094950       40405.61            0.00   \n",
              "\n",
              "          nameDest  oldbalanceDest  newbalanceDest  isFraud  \n",
              "23092  C1107146140      1049310.94      1655416.88      0.0  \n",
              "16629   C732929122        14495.00      2221293.55      0.0  \n",
              "8583    C811597470        60237.85       428593.84      0.0  \n",
              "15223  M1096552547            0.00            0.00      0.0  \n",
              "17755  C1383454473            0.00      1173901.80      0.0  "
            ],
            "text/html": [
              "\n",
              "  <div id=\"df-ae3f254f-43e9-44f9-b48a-61ff97091838\">\n",
              "    <div class=\"colab-df-container\">\n",
              "      <div>\n",
              "<style scoped>\n",
              "    .dataframe tbody tr th:only-of-type {\n",
              "        vertical-align: middle;\n",
              "    }\n",
              "\n",
              "    .dataframe tbody tr th {\n",
              "        vertical-align: top;\n",
              "    }\n",
              "\n",
              "    .dataframe thead th {\n",
              "        text-align: right;\n",
              "    }\n",
              "</style>\n",
              "<table border=\"1\" class=\"dataframe\">\n",
              "  <thead>\n",
              "    <tr style=\"text-align: right;\">\n",
              "      <th></th>\n",
              "      <th>step</th>\n",
              "      <th>type</th>\n",
              "      <th>amount</th>\n",
              "      <th>nameOrig</th>\n",
              "      <th>oldbalanceOrg</th>\n",
              "      <th>newbalanceOrig</th>\n",
              "      <th>nameDest</th>\n",
              "      <th>oldbalanceDest</th>\n",
              "      <th>newbalanceDest</th>\n",
              "      <th>isFraud</th>\n",
              "    </tr>\n",
              "  </thead>\n",
              "  <tbody>\n",
              "    <tr>\n",
              "      <th>23092</th>\n",
              "      <td>8</td>\n",
              "      <td>CASH_IN</td>\n",
              "      <td>281736.24</td>\n",
              "      <td>C1549259051</td>\n",
              "      <td>3040331.98</td>\n",
              "      <td>3322068.22</td>\n",
              "      <td>C1107146140</td>\n",
              "      <td>1049310.94</td>\n",
              "      <td>1655416.88</td>\n",
              "      <td>0.0</td>\n",
              "    </tr>\n",
              "    <tr>\n",
              "      <th>16629</th>\n",
              "      <td>8</td>\n",
              "      <td>TRANSFER</td>\n",
              "      <td>614556.68</td>\n",
              "      <td>C1083749100</td>\n",
              "      <td>526.00</td>\n",
              "      <td>0.00</td>\n",
              "      <td>C732929122</td>\n",
              "      <td>14495.00</td>\n",
              "      <td>2221293.55</td>\n",
              "      <td>0.0</td>\n",
              "    </tr>\n",
              "    <tr>\n",
              "      <th>8583</th>\n",
              "      <td>7</td>\n",
              "      <td>CASH_IN</td>\n",
              "      <td>32512.41</td>\n",
              "      <td>C1936634530</td>\n",
              "      <td>4125948.97</td>\n",
              "      <td>4158461.38</td>\n",
              "      <td>C811597470</td>\n",
              "      <td>60237.85</td>\n",
              "      <td>428593.84</td>\n",
              "      <td>0.0</td>\n",
              "    </tr>\n",
              "    <tr>\n",
              "      <th>15223</th>\n",
              "      <td>8</td>\n",
              "      <td>PAYMENT</td>\n",
              "      <td>11452.68</td>\n",
              "      <td>C1755444189</td>\n",
              "      <td>49896.93</td>\n",
              "      <td>38444.25</td>\n",
              "      <td>M1096552547</td>\n",
              "      <td>0.00</td>\n",
              "      <td>0.00</td>\n",
              "      <td>0.0</td>\n",
              "    </tr>\n",
              "    <tr>\n",
              "      <th>17755</th>\n",
              "      <td>8</td>\n",
              "      <td>CASH_OUT</td>\n",
              "      <td>418626.26</td>\n",
              "      <td>C1514094950</td>\n",
              "      <td>40405.61</td>\n",
              "      <td>0.00</td>\n",
              "      <td>C1383454473</td>\n",
              "      <td>0.00</td>\n",
              "      <td>1173901.80</td>\n",
              "      <td>0.0</td>\n",
              "    </tr>\n",
              "  </tbody>\n",
              "</table>\n",
              "</div>\n",
              "      <button class=\"colab-df-convert\" onclick=\"convertToInteractive('df-ae3f254f-43e9-44f9-b48a-61ff97091838')\"\n",
              "              title=\"Convert this dataframe to an interactive table.\"\n",
              "              style=\"display:none;\">\n",
              "        \n",
              "  <svg xmlns=\"http://www.w3.org/2000/svg\" height=\"24px\"viewBox=\"0 0 24 24\"\n",
              "       width=\"24px\">\n",
              "    <path d=\"M0 0h24v24H0V0z\" fill=\"none\"/>\n",
              "    <path d=\"M18.56 5.44l.94 2.06.94-2.06 2.06-.94-2.06-.94-.94-2.06-.94 2.06-2.06.94zm-11 1L8.5 8.5l.94-2.06 2.06-.94-2.06-.94L8.5 2.5l-.94 2.06-2.06.94zm10 10l.94 2.06.94-2.06 2.06-.94-2.06-.94-.94-2.06-.94 2.06-2.06.94z\"/><path d=\"M17.41 7.96l-1.37-1.37c-.4-.4-.92-.59-1.43-.59-.52 0-1.04.2-1.43.59L10.3 9.45l-7.72 7.72c-.78.78-.78 2.05 0 2.83L4 21.41c.39.39.9.59 1.41.59.51 0 1.02-.2 1.41-.59l7.78-7.78 2.81-2.81c.8-.78.8-2.07 0-2.86zM5.41 20L4 18.59l7.72-7.72 1.47 1.35L5.41 20z\"/>\n",
              "  </svg>\n",
              "      </button>\n",
              "      \n",
              "  <style>\n",
              "    .colab-df-container {\n",
              "      display:flex;\n",
              "      flex-wrap:wrap;\n",
              "      gap: 12px;\n",
              "    }\n",
              "\n",
              "    .colab-df-convert {\n",
              "      background-color: #E8F0FE;\n",
              "      border: none;\n",
              "      border-radius: 50%;\n",
              "      cursor: pointer;\n",
              "      display: none;\n",
              "      fill: #1967D2;\n",
              "      height: 32px;\n",
              "      padding: 0 0 0 0;\n",
              "      width: 32px;\n",
              "    }\n",
              "\n",
              "    .colab-df-convert:hover {\n",
              "      background-color: #E2EBFA;\n",
              "      box-shadow: 0px 1px 2px rgba(60, 64, 67, 0.3), 0px 1px 3px 1px rgba(60, 64, 67, 0.15);\n",
              "      fill: #174EA6;\n",
              "    }\n",
              "\n",
              "    [theme=dark] .colab-df-convert {\n",
              "      background-color: #3B4455;\n",
              "      fill: #D2E3FC;\n",
              "    }\n",
              "\n",
              "    [theme=dark] .colab-df-convert:hover {\n",
              "      background-color: #434B5C;\n",
              "      box-shadow: 0px 1px 3px 1px rgba(0, 0, 0, 0.15);\n",
              "      filter: drop-shadow(0px 1px 2px rgba(0, 0, 0, 0.3));\n",
              "      fill: #FFFFFF;\n",
              "    }\n",
              "  </style>\n",
              "\n",
              "      <script>\n",
              "        const buttonEl =\n",
              "          document.querySelector('#df-ae3f254f-43e9-44f9-b48a-61ff97091838 button.colab-df-convert');\n",
              "        buttonEl.style.display =\n",
              "          google.colab.kernel.accessAllowed ? 'block' : 'none';\n",
              "\n",
              "        async function convertToInteractive(key) {\n",
              "          const element = document.querySelector('#df-ae3f254f-43e9-44f9-b48a-61ff97091838');\n",
              "          const dataTable =\n",
              "            await google.colab.kernel.invokeFunction('convertToInteractive',\n",
              "                                                     [key], {});\n",
              "          if (!dataTable) return;\n",
              "\n",
              "          const docLinkHtml = 'Like what you see? Visit the ' +\n",
              "            '<a target=\"_blank\" href=https://colab.research.google.com/notebooks/data_table.ipynb>data table notebook</a>'\n",
              "            + ' to learn more about interactive tables.';\n",
              "          element.innerHTML = '';\n",
              "          dataTable['output_type'] = 'display_data';\n",
              "          await google.colab.output.renderOutput(dataTable, element);\n",
              "          const docLink = document.createElement('div');\n",
              "          docLink.innerHTML = docLinkHtml;\n",
              "          element.appendChild(docLink);\n",
              "        }\n",
              "      </script>\n",
              "    </div>\n",
              "  </div>\n",
              "  "
            ]
          },
          "metadata": {},
          "execution_count": 33
        }
      ],
      "source": [
        "new_dataset.head()"
      ]
    },
    {
      "cell_type": "code",
      "execution_count": 34,
      "id": "ed0ce376",
      "metadata": {
        "id": "ed0ce376",
        "outputId": "4adba33a-fbab-4121-85c1-126d05e94b53",
        "colab": {
          "base_uri": "https://localhost:8080/",
          "height": 206
        }
      },
      "outputs": [
        {
          "output_type": "execute_result",
          "data": {
            "text/plain": [
              "       step      type      amount     nameOrig  oldbalanceOrg  newbalanceOrig  \\\n",
              "18771     8  TRANSFER      222.00  C1961506277         222.00             0.0   \n",
              "18772     8  CASH_OUT      222.00  C1737727444         222.00             0.0   \n",
              "24966     8  TRANSFER     1996.17  C1198040187        1996.17             0.0   \n",
              "24967     8  CASH_OUT     1996.17   C858959216        1996.17             0.0   \n",
              "25875     8  TRANSFER  1078013.76  C1026280121           0.00             0.0   \n",
              "\n",
              "          nameDest  oldbalanceDest  newbalanceDest  isFraud  \n",
              "18771   C378841819            0.00       267095.19      1.0  \n",
              "18772   C588779235        24708.00       171647.35      1.0  \n",
              "24966  C1828047633            0.00            0.00      1.0  \n",
              "24967   C864078397         2559.74         4555.92      1.0  \n",
              "25875   C277510102            0.00       970749.68      1.0  "
            ],
            "text/html": [
              "\n",
              "  <div id=\"df-7578c27b-1105-4657-b5ab-d0d79307bc55\">\n",
              "    <div class=\"colab-df-container\">\n",
              "      <div>\n",
              "<style scoped>\n",
              "    .dataframe tbody tr th:only-of-type {\n",
              "        vertical-align: middle;\n",
              "    }\n",
              "\n",
              "    .dataframe tbody tr th {\n",
              "        vertical-align: top;\n",
              "    }\n",
              "\n",
              "    .dataframe thead th {\n",
              "        text-align: right;\n",
              "    }\n",
              "</style>\n",
              "<table border=\"1\" class=\"dataframe\">\n",
              "  <thead>\n",
              "    <tr style=\"text-align: right;\">\n",
              "      <th></th>\n",
              "      <th>step</th>\n",
              "      <th>type</th>\n",
              "      <th>amount</th>\n",
              "      <th>nameOrig</th>\n",
              "      <th>oldbalanceOrg</th>\n",
              "      <th>newbalanceOrig</th>\n",
              "      <th>nameDest</th>\n",
              "      <th>oldbalanceDest</th>\n",
              "      <th>newbalanceDest</th>\n",
              "      <th>isFraud</th>\n",
              "    </tr>\n",
              "  </thead>\n",
              "  <tbody>\n",
              "    <tr>\n",
              "      <th>18771</th>\n",
              "      <td>8</td>\n",
              "      <td>TRANSFER</td>\n",
              "      <td>222.00</td>\n",
              "      <td>C1961506277</td>\n",
              "      <td>222.00</td>\n",
              "      <td>0.0</td>\n",
              "      <td>C378841819</td>\n",
              "      <td>0.00</td>\n",
              "      <td>267095.19</td>\n",
              "      <td>1.0</td>\n",
              "    </tr>\n",
              "    <tr>\n",
              "      <th>18772</th>\n",
              "      <td>8</td>\n",
              "      <td>CASH_OUT</td>\n",
              "      <td>222.00</td>\n",
              "      <td>C1737727444</td>\n",
              "      <td>222.00</td>\n",
              "      <td>0.0</td>\n",
              "      <td>C588779235</td>\n",
              "      <td>24708.00</td>\n",
              "      <td>171647.35</td>\n",
              "      <td>1.0</td>\n",
              "    </tr>\n",
              "    <tr>\n",
              "      <th>24966</th>\n",
              "      <td>8</td>\n",
              "      <td>TRANSFER</td>\n",
              "      <td>1996.17</td>\n",
              "      <td>C1198040187</td>\n",
              "      <td>1996.17</td>\n",
              "      <td>0.0</td>\n",
              "      <td>C1828047633</td>\n",
              "      <td>0.00</td>\n",
              "      <td>0.00</td>\n",
              "      <td>1.0</td>\n",
              "    </tr>\n",
              "    <tr>\n",
              "      <th>24967</th>\n",
              "      <td>8</td>\n",
              "      <td>CASH_OUT</td>\n",
              "      <td>1996.17</td>\n",
              "      <td>C858959216</td>\n",
              "      <td>1996.17</td>\n",
              "      <td>0.0</td>\n",
              "      <td>C864078397</td>\n",
              "      <td>2559.74</td>\n",
              "      <td>4555.92</td>\n",
              "      <td>1.0</td>\n",
              "    </tr>\n",
              "    <tr>\n",
              "      <th>25875</th>\n",
              "      <td>8</td>\n",
              "      <td>TRANSFER</td>\n",
              "      <td>1078013.76</td>\n",
              "      <td>C1026280121</td>\n",
              "      <td>0.00</td>\n",
              "      <td>0.0</td>\n",
              "      <td>C277510102</td>\n",
              "      <td>0.00</td>\n",
              "      <td>970749.68</td>\n",
              "      <td>1.0</td>\n",
              "    </tr>\n",
              "  </tbody>\n",
              "</table>\n",
              "</div>\n",
              "      <button class=\"colab-df-convert\" onclick=\"convertToInteractive('df-7578c27b-1105-4657-b5ab-d0d79307bc55')\"\n",
              "              title=\"Convert this dataframe to an interactive table.\"\n",
              "              style=\"display:none;\">\n",
              "        \n",
              "  <svg xmlns=\"http://www.w3.org/2000/svg\" height=\"24px\"viewBox=\"0 0 24 24\"\n",
              "       width=\"24px\">\n",
              "    <path d=\"M0 0h24v24H0V0z\" fill=\"none\"/>\n",
              "    <path d=\"M18.56 5.44l.94 2.06.94-2.06 2.06-.94-2.06-.94-.94-2.06-.94 2.06-2.06.94zm-11 1L8.5 8.5l.94-2.06 2.06-.94-2.06-.94L8.5 2.5l-.94 2.06-2.06.94zm10 10l.94 2.06.94-2.06 2.06-.94-2.06-.94-.94-2.06-.94 2.06-2.06.94z\"/><path d=\"M17.41 7.96l-1.37-1.37c-.4-.4-.92-.59-1.43-.59-.52 0-1.04.2-1.43.59L10.3 9.45l-7.72 7.72c-.78.78-.78 2.05 0 2.83L4 21.41c.39.39.9.59 1.41.59.51 0 1.02-.2 1.41-.59l7.78-7.78 2.81-2.81c.8-.78.8-2.07 0-2.86zM5.41 20L4 18.59l7.72-7.72 1.47 1.35L5.41 20z\"/>\n",
              "  </svg>\n",
              "      </button>\n",
              "      \n",
              "  <style>\n",
              "    .colab-df-container {\n",
              "      display:flex;\n",
              "      flex-wrap:wrap;\n",
              "      gap: 12px;\n",
              "    }\n",
              "\n",
              "    .colab-df-convert {\n",
              "      background-color: #E8F0FE;\n",
              "      border: none;\n",
              "      border-radius: 50%;\n",
              "      cursor: pointer;\n",
              "      display: none;\n",
              "      fill: #1967D2;\n",
              "      height: 32px;\n",
              "      padding: 0 0 0 0;\n",
              "      width: 32px;\n",
              "    }\n",
              "\n",
              "    .colab-df-convert:hover {\n",
              "      background-color: #E2EBFA;\n",
              "      box-shadow: 0px 1px 2px rgba(60, 64, 67, 0.3), 0px 1px 3px 1px rgba(60, 64, 67, 0.15);\n",
              "      fill: #174EA6;\n",
              "    }\n",
              "\n",
              "    [theme=dark] .colab-df-convert {\n",
              "      background-color: #3B4455;\n",
              "      fill: #D2E3FC;\n",
              "    }\n",
              "\n",
              "    [theme=dark] .colab-df-convert:hover {\n",
              "      background-color: #434B5C;\n",
              "      box-shadow: 0px 1px 3px 1px rgba(0, 0, 0, 0.15);\n",
              "      filter: drop-shadow(0px 1px 2px rgba(0, 0, 0, 0.3));\n",
              "      fill: #FFFFFF;\n",
              "    }\n",
              "  </style>\n",
              "\n",
              "      <script>\n",
              "        const buttonEl =\n",
              "          document.querySelector('#df-7578c27b-1105-4657-b5ab-d0d79307bc55 button.colab-df-convert');\n",
              "        buttonEl.style.display =\n",
              "          google.colab.kernel.accessAllowed ? 'block' : 'none';\n",
              "\n",
              "        async function convertToInteractive(key) {\n",
              "          const element = document.querySelector('#df-7578c27b-1105-4657-b5ab-d0d79307bc55');\n",
              "          const dataTable =\n",
              "            await google.colab.kernel.invokeFunction('convertToInteractive',\n",
              "                                                     [key], {});\n",
              "          if (!dataTable) return;\n",
              "\n",
              "          const docLinkHtml = 'Like what you see? Visit the ' +\n",
              "            '<a target=\"_blank\" href=https://colab.research.google.com/notebooks/data_table.ipynb>data table notebook</a>'\n",
              "            + ' to learn more about interactive tables.';\n",
              "          element.innerHTML = '';\n",
              "          dataTable['output_type'] = 'display_data';\n",
              "          await google.colab.output.renderOutput(dataTable, element);\n",
              "          const docLink = document.createElement('div');\n",
              "          docLink.innerHTML = docLinkHtml;\n",
              "          element.appendChild(docLink);\n",
              "        }\n",
              "      </script>\n",
              "    </div>\n",
              "  </div>\n",
              "  "
            ]
          },
          "metadata": {},
          "execution_count": 34
        }
      ],
      "source": [
        "new_dataset.tail()"
      ]
    },
    {
      "cell_type": "code",
      "execution_count": 35,
      "id": "4c75f9af",
      "metadata": {
        "id": "4c75f9af",
        "outputId": "ee1009f5-c0f9-4e37-acfc-86b5a7b12d1a",
        "colab": {
          "base_uri": "https://localhost:8080/"
        }
      },
      "outputs": [
        {
          "output_type": "execute_result",
          "data": {
            "text/plain": [
              "0.0    1142\n",
              "1.0      84\n",
              "Name: isFraud, dtype: int64"
            ]
          },
          "metadata": {},
          "execution_count": 35
        }
      ],
      "source": [
        "new_dataset['isFraud'].value_counts()"
      ]
    },
    {
      "cell_type": "code",
      "execution_count": 36,
      "id": "b63f056f",
      "metadata": {
        "id": "b63f056f",
        "outputId": "870ffeac-23b7-4a74-fb65-0b22d5958d23",
        "colab": {
          "base_uri": "https://localhost:8080/"
        }
      },
      "outputs": [
        {
          "output_type": "execute_result",
          "data": {
            "text/plain": [
              "(1226, 10)"
            ]
          },
          "metadata": {},
          "execution_count": 36
        }
      ],
      "source": [
        "new_dataset.shape"
      ]
    },
    {
      "cell_type": "code",
      "execution_count": 38,
      "id": "c81a3b59",
      "metadata": {
        "id": "c81a3b59",
        "outputId": "bfc04154-a3eb-4a4d-878d-7dd0e552b29a",
        "colab": {
          "base_uri": "https://localhost:8080/",
          "height": 143
        }
      },
      "outputs": [
        {
          "output_type": "execute_result",
          "data": {
            "text/plain": [
              "             step         amount  oldbalanceOrg  newbalanceOrig  \\\n",
              "isFraud                                                           \n",
              "0.0      6.525394  145977.173651  874338.834790   894142.660989   \n",
              "1.0      4.500000  588446.793095  601493.379286    34885.933810   \n",
              "\n",
              "         oldbalanceDest  newbalanceDest  \n",
              "isFraud                                  \n",
              "0.0       867847.890622    1.137986e+06  \n",
              "1.0       208636.541905    6.973851e+05  "
            ],
            "text/html": [
              "\n",
              "  <div id=\"df-ab7910ba-2edf-47f2-bb29-5ffa91cf6370\">\n",
              "    <div class=\"colab-df-container\">\n",
              "      <div>\n",
              "<style scoped>\n",
              "    .dataframe tbody tr th:only-of-type {\n",
              "        vertical-align: middle;\n",
              "    }\n",
              "\n",
              "    .dataframe tbody tr th {\n",
              "        vertical-align: top;\n",
              "    }\n",
              "\n",
              "    .dataframe thead th {\n",
              "        text-align: right;\n",
              "    }\n",
              "</style>\n",
              "<table border=\"1\" class=\"dataframe\">\n",
              "  <thead>\n",
              "    <tr style=\"text-align: right;\">\n",
              "      <th></th>\n",
              "      <th>step</th>\n",
              "      <th>amount</th>\n",
              "      <th>oldbalanceOrg</th>\n",
              "      <th>newbalanceOrig</th>\n",
              "      <th>oldbalanceDest</th>\n",
              "      <th>newbalanceDest</th>\n",
              "    </tr>\n",
              "    <tr>\n",
              "      <th>isFraud</th>\n",
              "      <th></th>\n",
              "      <th></th>\n",
              "      <th></th>\n",
              "      <th></th>\n",
              "      <th></th>\n",
              "      <th></th>\n",
              "    </tr>\n",
              "  </thead>\n",
              "  <tbody>\n",
              "    <tr>\n",
              "      <th>0.0</th>\n",
              "      <td>6.525394</td>\n",
              "      <td>145977.173651</td>\n",
              "      <td>874338.834790</td>\n",
              "      <td>894142.660989</td>\n",
              "      <td>867847.890622</td>\n",
              "      <td>1.137986e+06</td>\n",
              "    </tr>\n",
              "    <tr>\n",
              "      <th>1.0</th>\n",
              "      <td>4.500000</td>\n",
              "      <td>588446.793095</td>\n",
              "      <td>601493.379286</td>\n",
              "      <td>34885.933810</td>\n",
              "      <td>208636.541905</td>\n",
              "      <td>6.973851e+05</td>\n",
              "    </tr>\n",
              "  </tbody>\n",
              "</table>\n",
              "</div>\n",
              "      <button class=\"colab-df-convert\" onclick=\"convertToInteractive('df-ab7910ba-2edf-47f2-bb29-5ffa91cf6370')\"\n",
              "              title=\"Convert this dataframe to an interactive table.\"\n",
              "              style=\"display:none;\">\n",
              "        \n",
              "  <svg xmlns=\"http://www.w3.org/2000/svg\" height=\"24px\"viewBox=\"0 0 24 24\"\n",
              "       width=\"24px\">\n",
              "    <path d=\"M0 0h24v24H0V0z\" fill=\"none\"/>\n",
              "    <path d=\"M18.56 5.44l.94 2.06.94-2.06 2.06-.94-2.06-.94-.94-2.06-.94 2.06-2.06.94zm-11 1L8.5 8.5l.94-2.06 2.06-.94-2.06-.94L8.5 2.5l-.94 2.06-2.06.94zm10 10l.94 2.06.94-2.06 2.06-.94-2.06-.94-.94-2.06-.94 2.06-2.06.94z\"/><path d=\"M17.41 7.96l-1.37-1.37c-.4-.4-.92-.59-1.43-.59-.52 0-1.04.2-1.43.59L10.3 9.45l-7.72 7.72c-.78.78-.78 2.05 0 2.83L4 21.41c.39.39.9.59 1.41.59.51 0 1.02-.2 1.41-.59l7.78-7.78 2.81-2.81c.8-.78.8-2.07 0-2.86zM5.41 20L4 18.59l7.72-7.72 1.47 1.35L5.41 20z\"/>\n",
              "  </svg>\n",
              "      </button>\n",
              "      \n",
              "  <style>\n",
              "    .colab-df-container {\n",
              "      display:flex;\n",
              "      flex-wrap:wrap;\n",
              "      gap: 12px;\n",
              "    }\n",
              "\n",
              "    .colab-df-convert {\n",
              "      background-color: #E8F0FE;\n",
              "      border: none;\n",
              "      border-radius: 50%;\n",
              "      cursor: pointer;\n",
              "      display: none;\n",
              "      fill: #1967D2;\n",
              "      height: 32px;\n",
              "      padding: 0 0 0 0;\n",
              "      width: 32px;\n",
              "    }\n",
              "\n",
              "    .colab-df-convert:hover {\n",
              "      background-color: #E2EBFA;\n",
              "      box-shadow: 0px 1px 2px rgba(60, 64, 67, 0.3), 0px 1px 3px 1px rgba(60, 64, 67, 0.15);\n",
              "      fill: #174EA6;\n",
              "    }\n",
              "\n",
              "    [theme=dark] .colab-df-convert {\n",
              "      background-color: #3B4455;\n",
              "      fill: #D2E3FC;\n",
              "    }\n",
              "\n",
              "    [theme=dark] .colab-df-convert:hover {\n",
              "      background-color: #434B5C;\n",
              "      box-shadow: 0px 1px 3px 1px rgba(0, 0, 0, 0.15);\n",
              "      filter: drop-shadow(0px 1px 2px rgba(0, 0, 0, 0.3));\n",
              "      fill: #FFFFFF;\n",
              "    }\n",
              "  </style>\n",
              "\n",
              "      <script>\n",
              "        const buttonEl =\n",
              "          document.querySelector('#df-ab7910ba-2edf-47f2-bb29-5ffa91cf6370 button.colab-df-convert');\n",
              "        buttonEl.style.display =\n",
              "          google.colab.kernel.accessAllowed ? 'block' : 'none';\n",
              "\n",
              "        async function convertToInteractive(key) {\n",
              "          const element = document.querySelector('#df-ab7910ba-2edf-47f2-bb29-5ffa91cf6370');\n",
              "          const dataTable =\n",
              "            await google.colab.kernel.invokeFunction('convertToInteractive',\n",
              "                                                     [key], {});\n",
              "          if (!dataTable) return;\n",
              "\n",
              "          const docLinkHtml = 'Like what you see? Visit the ' +\n",
              "            '<a target=\"_blank\" href=https://colab.research.google.com/notebooks/data_table.ipynb>data table notebook</a>'\n",
              "            + ' to learn more about interactive tables.';\n",
              "          element.innerHTML = '';\n",
              "          dataTable['output_type'] = 'display_data';\n",
              "          await google.colab.output.renderOutput(dataTable, element);\n",
              "          const docLink = document.createElement('div');\n",
              "          docLink.innerHTML = docLinkHtml;\n",
              "          element.appendChild(docLink);\n",
              "        }\n",
              "      </script>\n",
              "    </div>\n",
              "  </div>\n",
              "  "
            ]
          },
          "metadata": {},
          "execution_count": 38
        }
      ],
      "source": [
        "\n",
        "new_dataset.groupby('isFraud').mean()"
      ]
    },
    {
      "cell_type": "markdown",
      "id": "5fb43526",
      "metadata": {
        "id": "5fb43526"
      },
      "source": [
        "# Feature Engineering"
      ]
    },
    {
      "cell_type": "markdown",
      "id": "d2fb6354",
      "metadata": {
        "id": "d2fb6354"
      },
      "source": [
        "ML modelimizni o'rgatish va sinab ko'rish uchun biz ma'lumotlar majmuamizdan xususiyatlarni (ustunlarni) tanlaymiz\n",
        "Chunki bizning ma'lumotlar to'plamimiz toifali qiymatlarni o'z ichiga oladi ('nameOrig', 'nameDest'). ularni osonlikcha ishlatish mumkin bo'lgan ikkilik formatga yoki Machine Learning modeliga aylantirish zarur bo'ladi.\n",
        "\n",
        "Bu bitta issiq kodlash orqali amalga oshiriladi."
      ]
    },
    {
      "cell_type": "code",
      "execution_count": 39,
      "id": "ec4298c1",
      "metadata": {
        "id": "ec4298c1"
      },
      "outputs": [],
      "source": [
        "# One-hot Encoding.\n",
        "#Importing library\n",
        "\n",
        "from sklearn.preprocessing import OneHotEncoder"
      ]
    },
    {
      "cell_type": "code",
      "execution_count": 40,
      "id": "06307c57",
      "metadata": {
        "id": "06307c57"
      },
      "outputs": [],
      "source": [
        "#creating instance of one-hot-encoder\n",
        "encoder = OneHotEncoder(handle_unknown='ignore', sparse=False, drop=None,)"
      ]
    },
    {
      "cell_type": "code",
      "execution_count": 41,
      "id": "2ff52e5b",
      "metadata": {
        "id": "2ff52e5b"
      },
      "outputs": [],
      "source": [
        "#perform one-hot encoding on 'type' column \n",
        "encoder_df =  pd.get_dummies(new_dataset, columns=['type','nameOrig','nameDest'], prefix=['type','nameOrig','nameDest'])"
      ]
    },
    {
      "cell_type": "code",
      "execution_count": 42,
      "id": "511553d6",
      "metadata": {
        "scrolled": false,
        "id": "511553d6",
        "outputId": "eedec0e9-0ff9-454c-c3e4-36a5613c8976",
        "colab": {
          "base_uri": "https://localhost:8080/",
          "height": 488
        }
      },
      "outputs": [
        {
          "output_type": "execute_result",
          "data": {
            "text/plain": [
              "       step      amount  oldbalanceOrg  newbalanceOrig  oldbalanceDest  \\\n",
              "23092     8   281736.24     3040331.98      3322068.22      1049310.94   \n",
              "16629     8   614556.68         526.00            0.00        14495.00   \n",
              "8583      7    32512.41     4125948.97      4158461.38        60237.85   \n",
              "15223     8    11452.68       49896.93        38444.25            0.00   \n",
              "17755     8   418626.26       40405.61            0.00            0.00   \n",
              "...     ...         ...            ...             ...             ...   \n",
              "18771     8      222.00         222.00            0.00            0.00   \n",
              "18772     8      222.00         222.00            0.00        24708.00   \n",
              "24966     8     1996.17        1996.17            0.00            0.00   \n",
              "24967     8     1996.17        1996.17            0.00         2559.74   \n",
              "25875     8  1078013.76           0.00            0.00            0.00   \n",
              "\n",
              "       newbalanceDest  isFraud  type_CASH_IN  type_CASH_OUT  type_DEBIT  ...  \\\n",
              "23092      1655416.88      0.0             1              0           0  ...   \n",
              "16629      2221293.55      0.0             0              0           0  ...   \n",
              "8583        428593.84      0.0             1              0           0  ...   \n",
              "15223            0.00      0.0             0              0           0  ...   \n",
              "17755      1173901.80      0.0             0              1           0  ...   \n",
              "...               ...      ...           ...            ...         ...  ...   \n",
              "18771       267095.19      1.0             0              0           0  ...   \n",
              "18772       171647.35      1.0             0              1           0  ...   \n",
              "24966            0.00      1.0             0              0           0  ...   \n",
              "24967         4555.92      1.0             0              1           0  ...   \n",
              "25875       970749.68      1.0             0              0           0  ...   \n",
              "\n",
              "       nameDest_M977650730  nameDest_M979425573  nameDest_M981018779  \\\n",
              "23092                    0                    0                    0   \n",
              "16629                    0                    0                    0   \n",
              "8583                     0                    0                    0   \n",
              "15223                    0                    0                    0   \n",
              "17755                    0                    0                    0   \n",
              "...                    ...                  ...                  ...   \n",
              "18771                    0                    0                    0   \n",
              "18772                    0                    0                    0   \n",
              "24966                    0                    0                    0   \n",
              "24967                    0                    0                    0   \n",
              "25875                    0                    0                    0   \n",
              "\n",
              "       nameDest_M984618448  nameDest_M989992548  nameDest_M996509179  \\\n",
              "23092                    0                    0                    0   \n",
              "16629                    0                    0                    0   \n",
              "8583                     0                    0                    0   \n",
              "15223                    0                    0                    0   \n",
              "17755                    0                    0                    0   \n",
              "...                    ...                  ...                  ...   \n",
              "18771                    0                    0                    0   \n",
              "18772                    0                    0                    0   \n",
              "24966                    0                    0                    0   \n",
              "24967                    0                    0                    0   \n",
              "25875                    0                    0                    0   \n",
              "\n",
              "       nameDest_M997919131  nameDest_M998703767  nameDest_M999221400  \\\n",
              "23092                    0                    0                    0   \n",
              "16629                    0                    0                    0   \n",
              "8583                     0                    0                    0   \n",
              "15223                    0                    0                    0   \n",
              "17755                    0                    0                    0   \n",
              "...                    ...                  ...                  ...   \n",
              "18771                    0                    0                    0   \n",
              "18772                    0                    0                    0   \n",
              "24966                    0                    0                    0   \n",
              "24967                    0                    0                    0   \n",
              "25875                    0                    0                    0   \n",
              "\n",
              "       nameDest_M999797422  \n",
              "23092                    0  \n",
              "16629                    0  \n",
              "8583                     0  \n",
              "15223                    0  \n",
              "17755                    0  \n",
              "...                    ...  \n",
              "18771                    0  \n",
              "18772                    0  \n",
              "24966                    0  \n",
              "24967                    0  \n",
              "25875                    0  \n",
              "\n",
              "[1226 rows x 2329 columns]"
            ],
            "text/html": [
              "\n",
              "  <div id=\"df-d260f430-de9b-455b-b69e-e4d425db3c52\">\n",
              "    <div class=\"colab-df-container\">\n",
              "      <div>\n",
              "<style scoped>\n",
              "    .dataframe tbody tr th:only-of-type {\n",
              "        vertical-align: middle;\n",
              "    }\n",
              "\n",
              "    .dataframe tbody tr th {\n",
              "        vertical-align: top;\n",
              "    }\n",
              "\n",
              "    .dataframe thead th {\n",
              "        text-align: right;\n",
              "    }\n",
              "</style>\n",
              "<table border=\"1\" class=\"dataframe\">\n",
              "  <thead>\n",
              "    <tr style=\"text-align: right;\">\n",
              "      <th></th>\n",
              "      <th>step</th>\n",
              "      <th>amount</th>\n",
              "      <th>oldbalanceOrg</th>\n",
              "      <th>newbalanceOrig</th>\n",
              "      <th>oldbalanceDest</th>\n",
              "      <th>newbalanceDest</th>\n",
              "      <th>isFraud</th>\n",
              "      <th>type_CASH_IN</th>\n",
              "      <th>type_CASH_OUT</th>\n",
              "      <th>type_DEBIT</th>\n",
              "      <th>...</th>\n",
              "      <th>nameDest_M977650730</th>\n",
              "      <th>nameDest_M979425573</th>\n",
              "      <th>nameDest_M981018779</th>\n",
              "      <th>nameDest_M984618448</th>\n",
              "      <th>nameDest_M989992548</th>\n",
              "      <th>nameDest_M996509179</th>\n",
              "      <th>nameDest_M997919131</th>\n",
              "      <th>nameDest_M998703767</th>\n",
              "      <th>nameDest_M999221400</th>\n",
              "      <th>nameDest_M999797422</th>\n",
              "    </tr>\n",
              "  </thead>\n",
              "  <tbody>\n",
              "    <tr>\n",
              "      <th>23092</th>\n",
              "      <td>8</td>\n",
              "      <td>281736.24</td>\n",
              "      <td>3040331.98</td>\n",
              "      <td>3322068.22</td>\n",
              "      <td>1049310.94</td>\n",
              "      <td>1655416.88</td>\n",
              "      <td>0.0</td>\n",
              "      <td>1</td>\n",
              "      <td>0</td>\n",
              "      <td>0</td>\n",
              "      <td>...</td>\n",
              "      <td>0</td>\n",
              "      <td>0</td>\n",
              "      <td>0</td>\n",
              "      <td>0</td>\n",
              "      <td>0</td>\n",
              "      <td>0</td>\n",
              "      <td>0</td>\n",
              "      <td>0</td>\n",
              "      <td>0</td>\n",
              "      <td>0</td>\n",
              "    </tr>\n",
              "    <tr>\n",
              "      <th>16629</th>\n",
              "      <td>8</td>\n",
              "      <td>614556.68</td>\n",
              "      <td>526.00</td>\n",
              "      <td>0.00</td>\n",
              "      <td>14495.00</td>\n",
              "      <td>2221293.55</td>\n",
              "      <td>0.0</td>\n",
              "      <td>0</td>\n",
              "      <td>0</td>\n",
              "      <td>0</td>\n",
              "      <td>...</td>\n",
              "      <td>0</td>\n",
              "      <td>0</td>\n",
              "      <td>0</td>\n",
              "      <td>0</td>\n",
              "      <td>0</td>\n",
              "      <td>0</td>\n",
              "      <td>0</td>\n",
              "      <td>0</td>\n",
              "      <td>0</td>\n",
              "      <td>0</td>\n",
              "    </tr>\n",
              "    <tr>\n",
              "      <th>8583</th>\n",
              "      <td>7</td>\n",
              "      <td>32512.41</td>\n",
              "      <td>4125948.97</td>\n",
              "      <td>4158461.38</td>\n",
              "      <td>60237.85</td>\n",
              "      <td>428593.84</td>\n",
              "      <td>0.0</td>\n",
              "      <td>1</td>\n",
              "      <td>0</td>\n",
              "      <td>0</td>\n",
              "      <td>...</td>\n",
              "      <td>0</td>\n",
              "      <td>0</td>\n",
              "      <td>0</td>\n",
              "      <td>0</td>\n",
              "      <td>0</td>\n",
              "      <td>0</td>\n",
              "      <td>0</td>\n",
              "      <td>0</td>\n",
              "      <td>0</td>\n",
              "      <td>0</td>\n",
              "    </tr>\n",
              "    <tr>\n",
              "      <th>15223</th>\n",
              "      <td>8</td>\n",
              "      <td>11452.68</td>\n",
              "      <td>49896.93</td>\n",
              "      <td>38444.25</td>\n",
              "      <td>0.00</td>\n",
              "      <td>0.00</td>\n",
              "      <td>0.0</td>\n",
              "      <td>0</td>\n",
              "      <td>0</td>\n",
              "      <td>0</td>\n",
              "      <td>...</td>\n",
              "      <td>0</td>\n",
              "      <td>0</td>\n",
              "      <td>0</td>\n",
              "      <td>0</td>\n",
              "      <td>0</td>\n",
              "      <td>0</td>\n",
              "      <td>0</td>\n",
              "      <td>0</td>\n",
              "      <td>0</td>\n",
              "      <td>0</td>\n",
              "    </tr>\n",
              "    <tr>\n",
              "      <th>17755</th>\n",
              "      <td>8</td>\n",
              "      <td>418626.26</td>\n",
              "      <td>40405.61</td>\n",
              "      <td>0.00</td>\n",
              "      <td>0.00</td>\n",
              "      <td>1173901.80</td>\n",
              "      <td>0.0</td>\n",
              "      <td>0</td>\n",
              "      <td>1</td>\n",
              "      <td>0</td>\n",
              "      <td>...</td>\n",
              "      <td>0</td>\n",
              "      <td>0</td>\n",
              "      <td>0</td>\n",
              "      <td>0</td>\n",
              "      <td>0</td>\n",
              "      <td>0</td>\n",
              "      <td>0</td>\n",
              "      <td>0</td>\n",
              "      <td>0</td>\n",
              "      <td>0</td>\n",
              "    </tr>\n",
              "    <tr>\n",
              "      <th>...</th>\n",
              "      <td>...</td>\n",
              "      <td>...</td>\n",
              "      <td>...</td>\n",
              "      <td>...</td>\n",
              "      <td>...</td>\n",
              "      <td>...</td>\n",
              "      <td>...</td>\n",
              "      <td>...</td>\n",
              "      <td>...</td>\n",
              "      <td>...</td>\n",
              "      <td>...</td>\n",
              "      <td>...</td>\n",
              "      <td>...</td>\n",
              "      <td>...</td>\n",
              "      <td>...</td>\n",
              "      <td>...</td>\n",
              "      <td>...</td>\n",
              "      <td>...</td>\n",
              "      <td>...</td>\n",
              "      <td>...</td>\n",
              "      <td>...</td>\n",
              "    </tr>\n",
              "    <tr>\n",
              "      <th>18771</th>\n",
              "      <td>8</td>\n",
              "      <td>222.00</td>\n",
              "      <td>222.00</td>\n",
              "      <td>0.00</td>\n",
              "      <td>0.00</td>\n",
              "      <td>267095.19</td>\n",
              "      <td>1.0</td>\n",
              "      <td>0</td>\n",
              "      <td>0</td>\n",
              "      <td>0</td>\n",
              "      <td>...</td>\n",
              "      <td>0</td>\n",
              "      <td>0</td>\n",
              "      <td>0</td>\n",
              "      <td>0</td>\n",
              "      <td>0</td>\n",
              "      <td>0</td>\n",
              "      <td>0</td>\n",
              "      <td>0</td>\n",
              "      <td>0</td>\n",
              "      <td>0</td>\n",
              "    </tr>\n",
              "    <tr>\n",
              "      <th>18772</th>\n",
              "      <td>8</td>\n",
              "      <td>222.00</td>\n",
              "      <td>222.00</td>\n",
              "      <td>0.00</td>\n",
              "      <td>24708.00</td>\n",
              "      <td>171647.35</td>\n",
              "      <td>1.0</td>\n",
              "      <td>0</td>\n",
              "      <td>1</td>\n",
              "      <td>0</td>\n",
              "      <td>...</td>\n",
              "      <td>0</td>\n",
              "      <td>0</td>\n",
              "      <td>0</td>\n",
              "      <td>0</td>\n",
              "      <td>0</td>\n",
              "      <td>0</td>\n",
              "      <td>0</td>\n",
              "      <td>0</td>\n",
              "      <td>0</td>\n",
              "      <td>0</td>\n",
              "    </tr>\n",
              "    <tr>\n",
              "      <th>24966</th>\n",
              "      <td>8</td>\n",
              "      <td>1996.17</td>\n",
              "      <td>1996.17</td>\n",
              "      <td>0.00</td>\n",
              "      <td>0.00</td>\n",
              "      <td>0.00</td>\n",
              "      <td>1.0</td>\n",
              "      <td>0</td>\n",
              "      <td>0</td>\n",
              "      <td>0</td>\n",
              "      <td>...</td>\n",
              "      <td>0</td>\n",
              "      <td>0</td>\n",
              "      <td>0</td>\n",
              "      <td>0</td>\n",
              "      <td>0</td>\n",
              "      <td>0</td>\n",
              "      <td>0</td>\n",
              "      <td>0</td>\n",
              "      <td>0</td>\n",
              "      <td>0</td>\n",
              "    </tr>\n",
              "    <tr>\n",
              "      <th>24967</th>\n",
              "      <td>8</td>\n",
              "      <td>1996.17</td>\n",
              "      <td>1996.17</td>\n",
              "      <td>0.00</td>\n",
              "      <td>2559.74</td>\n",
              "      <td>4555.92</td>\n",
              "      <td>1.0</td>\n",
              "      <td>0</td>\n",
              "      <td>1</td>\n",
              "      <td>0</td>\n",
              "      <td>...</td>\n",
              "      <td>0</td>\n",
              "      <td>0</td>\n",
              "      <td>0</td>\n",
              "      <td>0</td>\n",
              "      <td>0</td>\n",
              "      <td>0</td>\n",
              "      <td>0</td>\n",
              "      <td>0</td>\n",
              "      <td>0</td>\n",
              "      <td>0</td>\n",
              "    </tr>\n",
              "    <tr>\n",
              "      <th>25875</th>\n",
              "      <td>8</td>\n",
              "      <td>1078013.76</td>\n",
              "      <td>0.00</td>\n",
              "      <td>0.00</td>\n",
              "      <td>0.00</td>\n",
              "      <td>970749.68</td>\n",
              "      <td>1.0</td>\n",
              "      <td>0</td>\n",
              "      <td>0</td>\n",
              "      <td>0</td>\n",
              "      <td>...</td>\n",
              "      <td>0</td>\n",
              "      <td>0</td>\n",
              "      <td>0</td>\n",
              "      <td>0</td>\n",
              "      <td>0</td>\n",
              "      <td>0</td>\n",
              "      <td>0</td>\n",
              "      <td>0</td>\n",
              "      <td>0</td>\n",
              "      <td>0</td>\n",
              "    </tr>\n",
              "  </tbody>\n",
              "</table>\n",
              "<p>1226 rows × 2329 columns</p>\n",
              "</div>\n",
              "      <button class=\"colab-df-convert\" onclick=\"convertToInteractive('df-d260f430-de9b-455b-b69e-e4d425db3c52')\"\n",
              "              title=\"Convert this dataframe to an interactive table.\"\n",
              "              style=\"display:none;\">\n",
              "        \n",
              "  <svg xmlns=\"http://www.w3.org/2000/svg\" height=\"24px\"viewBox=\"0 0 24 24\"\n",
              "       width=\"24px\">\n",
              "    <path d=\"M0 0h24v24H0V0z\" fill=\"none\"/>\n",
              "    <path d=\"M18.56 5.44l.94 2.06.94-2.06 2.06-.94-2.06-.94-.94-2.06-.94 2.06-2.06.94zm-11 1L8.5 8.5l.94-2.06 2.06-.94-2.06-.94L8.5 2.5l-.94 2.06-2.06.94zm10 10l.94 2.06.94-2.06 2.06-.94-2.06-.94-.94-2.06-.94 2.06-2.06.94z\"/><path d=\"M17.41 7.96l-1.37-1.37c-.4-.4-.92-.59-1.43-.59-.52 0-1.04.2-1.43.59L10.3 9.45l-7.72 7.72c-.78.78-.78 2.05 0 2.83L4 21.41c.39.39.9.59 1.41.59.51 0 1.02-.2 1.41-.59l7.78-7.78 2.81-2.81c.8-.78.8-2.07 0-2.86zM5.41 20L4 18.59l7.72-7.72 1.47 1.35L5.41 20z\"/>\n",
              "  </svg>\n",
              "      </button>\n",
              "      \n",
              "  <style>\n",
              "    .colab-df-container {\n",
              "      display:flex;\n",
              "      flex-wrap:wrap;\n",
              "      gap: 12px;\n",
              "    }\n",
              "\n",
              "    .colab-df-convert {\n",
              "      background-color: #E8F0FE;\n",
              "      border: none;\n",
              "      border-radius: 50%;\n",
              "      cursor: pointer;\n",
              "      display: none;\n",
              "      fill: #1967D2;\n",
              "      height: 32px;\n",
              "      padding: 0 0 0 0;\n",
              "      width: 32px;\n",
              "    }\n",
              "\n",
              "    .colab-df-convert:hover {\n",
              "      background-color: #E2EBFA;\n",
              "      box-shadow: 0px 1px 2px rgba(60, 64, 67, 0.3), 0px 1px 3px 1px rgba(60, 64, 67, 0.15);\n",
              "      fill: #174EA6;\n",
              "    }\n",
              "\n",
              "    [theme=dark] .colab-df-convert {\n",
              "      background-color: #3B4455;\n",
              "      fill: #D2E3FC;\n",
              "    }\n",
              "\n",
              "    [theme=dark] .colab-df-convert:hover {\n",
              "      background-color: #434B5C;\n",
              "      box-shadow: 0px 1px 3px 1px rgba(0, 0, 0, 0.15);\n",
              "      filter: drop-shadow(0px 1px 2px rgba(0, 0, 0, 0.3));\n",
              "      fill: #FFFFFF;\n",
              "    }\n",
              "  </style>\n",
              "\n",
              "      <script>\n",
              "        const buttonEl =\n",
              "          document.querySelector('#df-d260f430-de9b-455b-b69e-e4d425db3c52 button.colab-df-convert');\n",
              "        buttonEl.style.display =\n",
              "          google.colab.kernel.accessAllowed ? 'block' : 'none';\n",
              "\n",
              "        async function convertToInteractive(key) {\n",
              "          const element = document.querySelector('#df-d260f430-de9b-455b-b69e-e4d425db3c52');\n",
              "          const dataTable =\n",
              "            await google.colab.kernel.invokeFunction('convertToInteractive',\n",
              "                                                     [key], {});\n",
              "          if (!dataTable) return;\n",
              "\n",
              "          const docLinkHtml = 'Like what you see? Visit the ' +\n",
              "            '<a target=\"_blank\" href=https://colab.research.google.com/notebooks/data_table.ipynb>data table notebook</a>'\n",
              "            + ' to learn more about interactive tables.';\n",
              "          element.innerHTML = '';\n",
              "          dataTable['output_type'] = 'display_data';\n",
              "          await google.colab.output.renderOutput(dataTable, element);\n",
              "          const docLink = document.createElement('div');\n",
              "          docLink.innerHTML = docLinkHtml;\n",
              "          element.appendChild(docLink);\n",
              "        }\n",
              "      </script>\n",
              "    </div>\n",
              "  </div>\n",
              "  "
            ]
          },
          "metadata": {},
          "execution_count": 42
        }
      ],
      "source": [
        "encoder_df"
      ]
    },
    {
      "cell_type": "code",
      "execution_count": 43,
      "id": "cbdd38ca",
      "metadata": {
        "id": "cbdd38ca",
        "outputId": "34aea1eb-6bc5-4f2a-c907-e7a88b5fc312",
        "colab": {
          "base_uri": "https://localhost:8080/"
        }
      },
      "outputs": [
        {
          "output_type": "execute_result",
          "data": {
            "text/plain": [
              "(1226, 2329)"
            ]
          },
          "metadata": {},
          "execution_count": 43
        }
      ],
      "source": [
        "encoder_df.shape"
      ]
    },
    {
      "cell_type": "code",
      "execution_count": 44,
      "id": "7c983de6",
      "metadata": {
        "scrolled": true,
        "id": "7c983de6",
        "outputId": "59a7eeef-46cc-434f-b8ab-2a7c58419ca8",
        "colab": {
          "base_uri": "https://localhost:8080/",
          "height": 299
        }
      },
      "outputs": [
        {
          "output_type": "execute_result",
          "data": {
            "text/plain": [
              "       step     amount  oldbalanceOrg  newbalanceOrig  oldbalanceDest  \\\n",
              "23092     8  281736.24     3040331.98      3322068.22      1049310.94   \n",
              "16629     8  614556.68         526.00            0.00        14495.00   \n",
              "8583      7   32512.41     4125948.97      4158461.38        60237.85   \n",
              "15223     8   11452.68       49896.93        38444.25            0.00   \n",
              "17755     8  418626.26       40405.61            0.00            0.00   \n",
              "\n",
              "       newbalanceDest  isFraud  type_CASH_IN  type_CASH_OUT  type_DEBIT  ...  \\\n",
              "23092      1655416.88      0.0             1              0           0  ...   \n",
              "16629      2221293.55      0.0             0              0           0  ...   \n",
              "8583        428593.84      0.0             1              0           0  ...   \n",
              "15223            0.00      0.0             0              0           0  ...   \n",
              "17755      1173901.80      0.0             0              1           0  ...   \n",
              "\n",
              "       nameDest_M977650730  nameDest_M979425573  nameDest_M981018779  \\\n",
              "23092                    0                    0                    0   \n",
              "16629                    0                    0                    0   \n",
              "8583                     0                    0                    0   \n",
              "15223                    0                    0                    0   \n",
              "17755                    0                    0                    0   \n",
              "\n",
              "       nameDest_M984618448  nameDest_M989992548  nameDest_M996509179  \\\n",
              "23092                    0                    0                    0   \n",
              "16629                    0                    0                    0   \n",
              "8583                     0                    0                    0   \n",
              "15223                    0                    0                    0   \n",
              "17755                    0                    0                    0   \n",
              "\n",
              "       nameDest_M997919131  nameDest_M998703767  nameDest_M999221400  \\\n",
              "23092                    0                    0                    0   \n",
              "16629                    0                    0                    0   \n",
              "8583                     0                    0                    0   \n",
              "15223                    0                    0                    0   \n",
              "17755                    0                    0                    0   \n",
              "\n",
              "       nameDest_M999797422  \n",
              "23092                    0  \n",
              "16629                    0  \n",
              "8583                     0  \n",
              "15223                    0  \n",
              "17755                    0  \n",
              "\n",
              "[5 rows x 2329 columns]"
            ],
            "text/html": [
              "\n",
              "  <div id=\"df-f7664ed6-2d73-4482-a340-be90d2da68b9\">\n",
              "    <div class=\"colab-df-container\">\n",
              "      <div>\n",
              "<style scoped>\n",
              "    .dataframe tbody tr th:only-of-type {\n",
              "        vertical-align: middle;\n",
              "    }\n",
              "\n",
              "    .dataframe tbody tr th {\n",
              "        vertical-align: top;\n",
              "    }\n",
              "\n",
              "    .dataframe thead th {\n",
              "        text-align: right;\n",
              "    }\n",
              "</style>\n",
              "<table border=\"1\" class=\"dataframe\">\n",
              "  <thead>\n",
              "    <tr style=\"text-align: right;\">\n",
              "      <th></th>\n",
              "      <th>step</th>\n",
              "      <th>amount</th>\n",
              "      <th>oldbalanceOrg</th>\n",
              "      <th>newbalanceOrig</th>\n",
              "      <th>oldbalanceDest</th>\n",
              "      <th>newbalanceDest</th>\n",
              "      <th>isFraud</th>\n",
              "      <th>type_CASH_IN</th>\n",
              "      <th>type_CASH_OUT</th>\n",
              "      <th>type_DEBIT</th>\n",
              "      <th>...</th>\n",
              "      <th>nameDest_M977650730</th>\n",
              "      <th>nameDest_M979425573</th>\n",
              "      <th>nameDest_M981018779</th>\n",
              "      <th>nameDest_M984618448</th>\n",
              "      <th>nameDest_M989992548</th>\n",
              "      <th>nameDest_M996509179</th>\n",
              "      <th>nameDest_M997919131</th>\n",
              "      <th>nameDest_M998703767</th>\n",
              "      <th>nameDest_M999221400</th>\n",
              "      <th>nameDest_M999797422</th>\n",
              "    </tr>\n",
              "  </thead>\n",
              "  <tbody>\n",
              "    <tr>\n",
              "      <th>23092</th>\n",
              "      <td>8</td>\n",
              "      <td>281736.24</td>\n",
              "      <td>3040331.98</td>\n",
              "      <td>3322068.22</td>\n",
              "      <td>1049310.94</td>\n",
              "      <td>1655416.88</td>\n",
              "      <td>0.0</td>\n",
              "      <td>1</td>\n",
              "      <td>0</td>\n",
              "      <td>0</td>\n",
              "      <td>...</td>\n",
              "      <td>0</td>\n",
              "      <td>0</td>\n",
              "      <td>0</td>\n",
              "      <td>0</td>\n",
              "      <td>0</td>\n",
              "      <td>0</td>\n",
              "      <td>0</td>\n",
              "      <td>0</td>\n",
              "      <td>0</td>\n",
              "      <td>0</td>\n",
              "    </tr>\n",
              "    <tr>\n",
              "      <th>16629</th>\n",
              "      <td>8</td>\n",
              "      <td>614556.68</td>\n",
              "      <td>526.00</td>\n",
              "      <td>0.00</td>\n",
              "      <td>14495.00</td>\n",
              "      <td>2221293.55</td>\n",
              "      <td>0.0</td>\n",
              "      <td>0</td>\n",
              "      <td>0</td>\n",
              "      <td>0</td>\n",
              "      <td>...</td>\n",
              "      <td>0</td>\n",
              "      <td>0</td>\n",
              "      <td>0</td>\n",
              "      <td>0</td>\n",
              "      <td>0</td>\n",
              "      <td>0</td>\n",
              "      <td>0</td>\n",
              "      <td>0</td>\n",
              "      <td>0</td>\n",
              "      <td>0</td>\n",
              "    </tr>\n",
              "    <tr>\n",
              "      <th>8583</th>\n",
              "      <td>7</td>\n",
              "      <td>32512.41</td>\n",
              "      <td>4125948.97</td>\n",
              "      <td>4158461.38</td>\n",
              "      <td>60237.85</td>\n",
              "      <td>428593.84</td>\n",
              "      <td>0.0</td>\n",
              "      <td>1</td>\n",
              "      <td>0</td>\n",
              "      <td>0</td>\n",
              "      <td>...</td>\n",
              "      <td>0</td>\n",
              "      <td>0</td>\n",
              "      <td>0</td>\n",
              "      <td>0</td>\n",
              "      <td>0</td>\n",
              "      <td>0</td>\n",
              "      <td>0</td>\n",
              "      <td>0</td>\n",
              "      <td>0</td>\n",
              "      <td>0</td>\n",
              "    </tr>\n",
              "    <tr>\n",
              "      <th>15223</th>\n",
              "      <td>8</td>\n",
              "      <td>11452.68</td>\n",
              "      <td>49896.93</td>\n",
              "      <td>38444.25</td>\n",
              "      <td>0.00</td>\n",
              "      <td>0.00</td>\n",
              "      <td>0.0</td>\n",
              "      <td>0</td>\n",
              "      <td>0</td>\n",
              "      <td>0</td>\n",
              "      <td>...</td>\n",
              "      <td>0</td>\n",
              "      <td>0</td>\n",
              "      <td>0</td>\n",
              "      <td>0</td>\n",
              "      <td>0</td>\n",
              "      <td>0</td>\n",
              "      <td>0</td>\n",
              "      <td>0</td>\n",
              "      <td>0</td>\n",
              "      <td>0</td>\n",
              "    </tr>\n",
              "    <tr>\n",
              "      <th>17755</th>\n",
              "      <td>8</td>\n",
              "      <td>418626.26</td>\n",
              "      <td>40405.61</td>\n",
              "      <td>0.00</td>\n",
              "      <td>0.00</td>\n",
              "      <td>1173901.80</td>\n",
              "      <td>0.0</td>\n",
              "      <td>0</td>\n",
              "      <td>1</td>\n",
              "      <td>0</td>\n",
              "      <td>...</td>\n",
              "      <td>0</td>\n",
              "      <td>0</td>\n",
              "      <td>0</td>\n",
              "      <td>0</td>\n",
              "      <td>0</td>\n",
              "      <td>0</td>\n",
              "      <td>0</td>\n",
              "      <td>0</td>\n",
              "      <td>0</td>\n",
              "      <td>0</td>\n",
              "    </tr>\n",
              "  </tbody>\n",
              "</table>\n",
              "<p>5 rows × 2329 columns</p>\n",
              "</div>\n",
              "      <button class=\"colab-df-convert\" onclick=\"convertToInteractive('df-f7664ed6-2d73-4482-a340-be90d2da68b9')\"\n",
              "              title=\"Convert this dataframe to an interactive table.\"\n",
              "              style=\"display:none;\">\n",
              "        \n",
              "  <svg xmlns=\"http://www.w3.org/2000/svg\" height=\"24px\"viewBox=\"0 0 24 24\"\n",
              "       width=\"24px\">\n",
              "    <path d=\"M0 0h24v24H0V0z\" fill=\"none\"/>\n",
              "    <path d=\"M18.56 5.44l.94 2.06.94-2.06 2.06-.94-2.06-.94-.94-2.06-.94 2.06-2.06.94zm-11 1L8.5 8.5l.94-2.06 2.06-.94-2.06-.94L8.5 2.5l-.94 2.06-2.06.94zm10 10l.94 2.06.94-2.06 2.06-.94-2.06-.94-.94-2.06-.94 2.06-2.06.94z\"/><path d=\"M17.41 7.96l-1.37-1.37c-.4-.4-.92-.59-1.43-.59-.52 0-1.04.2-1.43.59L10.3 9.45l-7.72 7.72c-.78.78-.78 2.05 0 2.83L4 21.41c.39.39.9.59 1.41.59.51 0 1.02-.2 1.41-.59l7.78-7.78 2.81-2.81c.8-.78.8-2.07 0-2.86zM5.41 20L4 18.59l7.72-7.72 1.47 1.35L5.41 20z\"/>\n",
              "  </svg>\n",
              "      </button>\n",
              "      \n",
              "  <style>\n",
              "    .colab-df-container {\n",
              "      display:flex;\n",
              "      flex-wrap:wrap;\n",
              "      gap: 12px;\n",
              "    }\n",
              "\n",
              "    .colab-df-convert {\n",
              "      background-color: #E8F0FE;\n",
              "      border: none;\n",
              "      border-radius: 50%;\n",
              "      cursor: pointer;\n",
              "      display: none;\n",
              "      fill: #1967D2;\n",
              "      height: 32px;\n",
              "      padding: 0 0 0 0;\n",
              "      width: 32px;\n",
              "    }\n",
              "\n",
              "    .colab-df-convert:hover {\n",
              "      background-color: #E2EBFA;\n",
              "      box-shadow: 0px 1px 2px rgba(60, 64, 67, 0.3), 0px 1px 3px 1px rgba(60, 64, 67, 0.15);\n",
              "      fill: #174EA6;\n",
              "    }\n",
              "\n",
              "    [theme=dark] .colab-df-convert {\n",
              "      background-color: #3B4455;\n",
              "      fill: #D2E3FC;\n",
              "    }\n",
              "\n",
              "    [theme=dark] .colab-df-convert:hover {\n",
              "      background-color: #434B5C;\n",
              "      box-shadow: 0px 1px 3px 1px rgba(0, 0, 0, 0.15);\n",
              "      filter: drop-shadow(0px 1px 2px rgba(0, 0, 0, 0.3));\n",
              "      fill: #FFFFFF;\n",
              "    }\n",
              "  </style>\n",
              "\n",
              "      <script>\n",
              "        const buttonEl =\n",
              "          document.querySelector('#df-f7664ed6-2d73-4482-a340-be90d2da68b9 button.colab-df-convert');\n",
              "        buttonEl.style.display =\n",
              "          google.colab.kernel.accessAllowed ? 'block' : 'none';\n",
              "\n",
              "        async function convertToInteractive(key) {\n",
              "          const element = document.querySelector('#df-f7664ed6-2d73-4482-a340-be90d2da68b9');\n",
              "          const dataTable =\n",
              "            await google.colab.kernel.invokeFunction('convertToInteractive',\n",
              "                                                     [key], {});\n",
              "          if (!dataTable) return;\n",
              "\n",
              "          const docLinkHtml = 'Like what you see? Visit the ' +\n",
              "            '<a target=\"_blank\" href=https://colab.research.google.com/notebooks/data_table.ipynb>data table notebook</a>'\n",
              "            + ' to learn more about interactive tables.';\n",
              "          element.innerHTML = '';\n",
              "          dataTable['output_type'] = 'display_data';\n",
              "          await google.colab.output.renderOutput(dataTable, element);\n",
              "          const docLink = document.createElement('div');\n",
              "          docLink.innerHTML = docLinkHtml;\n",
              "          element.appendChild(docLink);\n",
              "        }\n",
              "      </script>\n",
              "    </div>\n",
              "  </div>\n",
              "  "
            ]
          },
          "metadata": {},
          "execution_count": 44
        }
      ],
      "source": [
        "# Check result of one-hot encoding\n",
        "encoder_df.head()"
      ]
    },
    {
      "cell_type": "code",
      "execution_count": 45,
      "id": "99eb4b3b",
      "metadata": {
        "scrolled": true,
        "id": "99eb4b3b",
        "outputId": "daf0000c-8453-4d4b-868d-e0f3f5f9cb84",
        "colab": {
          "base_uri": "https://localhost:8080/",
          "height": 299
        }
      },
      "outputs": [
        {
          "output_type": "execute_result",
          "data": {
            "text/plain": [
              "       step      amount  oldbalanceOrg  newbalanceOrig  oldbalanceDest  \\\n",
              "18771     8      222.00         222.00             0.0            0.00   \n",
              "18772     8      222.00         222.00             0.0        24708.00   \n",
              "24966     8     1996.17        1996.17             0.0            0.00   \n",
              "24967     8     1996.17        1996.17             0.0         2559.74   \n",
              "25875     8  1078013.76           0.00             0.0            0.00   \n",
              "\n",
              "       newbalanceDest  isFraud  type_CASH_IN  type_CASH_OUT  type_DEBIT  ...  \\\n",
              "18771       267095.19      1.0             0              0           0  ...   \n",
              "18772       171647.35      1.0             0              1           0  ...   \n",
              "24966            0.00      1.0             0              0           0  ...   \n",
              "24967         4555.92      1.0             0              1           0  ...   \n",
              "25875       970749.68      1.0             0              0           0  ...   \n",
              "\n",
              "       nameDest_M977650730  nameDest_M979425573  nameDest_M981018779  \\\n",
              "18771                    0                    0                    0   \n",
              "18772                    0                    0                    0   \n",
              "24966                    0                    0                    0   \n",
              "24967                    0                    0                    0   \n",
              "25875                    0                    0                    0   \n",
              "\n",
              "       nameDest_M984618448  nameDest_M989992548  nameDest_M996509179  \\\n",
              "18771                    0                    0                    0   \n",
              "18772                    0                    0                    0   \n",
              "24966                    0                    0                    0   \n",
              "24967                    0                    0                    0   \n",
              "25875                    0                    0                    0   \n",
              "\n",
              "       nameDest_M997919131  nameDest_M998703767  nameDest_M999221400  \\\n",
              "18771                    0                    0                    0   \n",
              "18772                    0                    0                    0   \n",
              "24966                    0                    0                    0   \n",
              "24967                    0                    0                    0   \n",
              "25875                    0                    0                    0   \n",
              "\n",
              "       nameDest_M999797422  \n",
              "18771                    0  \n",
              "18772                    0  \n",
              "24966                    0  \n",
              "24967                    0  \n",
              "25875                    0  \n",
              "\n",
              "[5 rows x 2329 columns]"
            ],
            "text/html": [
              "\n",
              "  <div id=\"df-e937e22c-a2e4-4c3c-bb47-b94353499b32\">\n",
              "    <div class=\"colab-df-container\">\n",
              "      <div>\n",
              "<style scoped>\n",
              "    .dataframe tbody tr th:only-of-type {\n",
              "        vertical-align: middle;\n",
              "    }\n",
              "\n",
              "    .dataframe tbody tr th {\n",
              "        vertical-align: top;\n",
              "    }\n",
              "\n",
              "    .dataframe thead th {\n",
              "        text-align: right;\n",
              "    }\n",
              "</style>\n",
              "<table border=\"1\" class=\"dataframe\">\n",
              "  <thead>\n",
              "    <tr style=\"text-align: right;\">\n",
              "      <th></th>\n",
              "      <th>step</th>\n",
              "      <th>amount</th>\n",
              "      <th>oldbalanceOrg</th>\n",
              "      <th>newbalanceOrig</th>\n",
              "      <th>oldbalanceDest</th>\n",
              "      <th>newbalanceDest</th>\n",
              "      <th>isFraud</th>\n",
              "      <th>type_CASH_IN</th>\n",
              "      <th>type_CASH_OUT</th>\n",
              "      <th>type_DEBIT</th>\n",
              "      <th>...</th>\n",
              "      <th>nameDest_M977650730</th>\n",
              "      <th>nameDest_M979425573</th>\n",
              "      <th>nameDest_M981018779</th>\n",
              "      <th>nameDest_M984618448</th>\n",
              "      <th>nameDest_M989992548</th>\n",
              "      <th>nameDest_M996509179</th>\n",
              "      <th>nameDest_M997919131</th>\n",
              "      <th>nameDest_M998703767</th>\n",
              "      <th>nameDest_M999221400</th>\n",
              "      <th>nameDest_M999797422</th>\n",
              "    </tr>\n",
              "  </thead>\n",
              "  <tbody>\n",
              "    <tr>\n",
              "      <th>18771</th>\n",
              "      <td>8</td>\n",
              "      <td>222.00</td>\n",
              "      <td>222.00</td>\n",
              "      <td>0.0</td>\n",
              "      <td>0.00</td>\n",
              "      <td>267095.19</td>\n",
              "      <td>1.0</td>\n",
              "      <td>0</td>\n",
              "      <td>0</td>\n",
              "      <td>0</td>\n",
              "      <td>...</td>\n",
              "      <td>0</td>\n",
              "      <td>0</td>\n",
              "      <td>0</td>\n",
              "      <td>0</td>\n",
              "      <td>0</td>\n",
              "      <td>0</td>\n",
              "      <td>0</td>\n",
              "      <td>0</td>\n",
              "      <td>0</td>\n",
              "      <td>0</td>\n",
              "    </tr>\n",
              "    <tr>\n",
              "      <th>18772</th>\n",
              "      <td>8</td>\n",
              "      <td>222.00</td>\n",
              "      <td>222.00</td>\n",
              "      <td>0.0</td>\n",
              "      <td>24708.00</td>\n",
              "      <td>171647.35</td>\n",
              "      <td>1.0</td>\n",
              "      <td>0</td>\n",
              "      <td>1</td>\n",
              "      <td>0</td>\n",
              "      <td>...</td>\n",
              "      <td>0</td>\n",
              "      <td>0</td>\n",
              "      <td>0</td>\n",
              "      <td>0</td>\n",
              "      <td>0</td>\n",
              "      <td>0</td>\n",
              "      <td>0</td>\n",
              "      <td>0</td>\n",
              "      <td>0</td>\n",
              "      <td>0</td>\n",
              "    </tr>\n",
              "    <tr>\n",
              "      <th>24966</th>\n",
              "      <td>8</td>\n",
              "      <td>1996.17</td>\n",
              "      <td>1996.17</td>\n",
              "      <td>0.0</td>\n",
              "      <td>0.00</td>\n",
              "      <td>0.00</td>\n",
              "      <td>1.0</td>\n",
              "      <td>0</td>\n",
              "      <td>0</td>\n",
              "      <td>0</td>\n",
              "      <td>...</td>\n",
              "      <td>0</td>\n",
              "      <td>0</td>\n",
              "      <td>0</td>\n",
              "      <td>0</td>\n",
              "      <td>0</td>\n",
              "      <td>0</td>\n",
              "      <td>0</td>\n",
              "      <td>0</td>\n",
              "      <td>0</td>\n",
              "      <td>0</td>\n",
              "    </tr>\n",
              "    <tr>\n",
              "      <th>24967</th>\n",
              "      <td>8</td>\n",
              "      <td>1996.17</td>\n",
              "      <td>1996.17</td>\n",
              "      <td>0.0</td>\n",
              "      <td>2559.74</td>\n",
              "      <td>4555.92</td>\n",
              "      <td>1.0</td>\n",
              "      <td>0</td>\n",
              "      <td>1</td>\n",
              "      <td>0</td>\n",
              "      <td>...</td>\n",
              "      <td>0</td>\n",
              "      <td>0</td>\n",
              "      <td>0</td>\n",
              "      <td>0</td>\n",
              "      <td>0</td>\n",
              "      <td>0</td>\n",
              "      <td>0</td>\n",
              "      <td>0</td>\n",
              "      <td>0</td>\n",
              "      <td>0</td>\n",
              "    </tr>\n",
              "    <tr>\n",
              "      <th>25875</th>\n",
              "      <td>8</td>\n",
              "      <td>1078013.76</td>\n",
              "      <td>0.00</td>\n",
              "      <td>0.0</td>\n",
              "      <td>0.00</td>\n",
              "      <td>970749.68</td>\n",
              "      <td>1.0</td>\n",
              "      <td>0</td>\n",
              "      <td>0</td>\n",
              "      <td>0</td>\n",
              "      <td>...</td>\n",
              "      <td>0</td>\n",
              "      <td>0</td>\n",
              "      <td>0</td>\n",
              "      <td>0</td>\n",
              "      <td>0</td>\n",
              "      <td>0</td>\n",
              "      <td>0</td>\n",
              "      <td>0</td>\n",
              "      <td>0</td>\n",
              "      <td>0</td>\n",
              "    </tr>\n",
              "  </tbody>\n",
              "</table>\n",
              "<p>5 rows × 2329 columns</p>\n",
              "</div>\n",
              "      <button class=\"colab-df-convert\" onclick=\"convertToInteractive('df-e937e22c-a2e4-4c3c-bb47-b94353499b32')\"\n",
              "              title=\"Convert this dataframe to an interactive table.\"\n",
              "              style=\"display:none;\">\n",
              "        \n",
              "  <svg xmlns=\"http://www.w3.org/2000/svg\" height=\"24px\"viewBox=\"0 0 24 24\"\n",
              "       width=\"24px\">\n",
              "    <path d=\"M0 0h24v24H0V0z\" fill=\"none\"/>\n",
              "    <path d=\"M18.56 5.44l.94 2.06.94-2.06 2.06-.94-2.06-.94-.94-2.06-.94 2.06-2.06.94zm-11 1L8.5 8.5l.94-2.06 2.06-.94-2.06-.94L8.5 2.5l-.94 2.06-2.06.94zm10 10l.94 2.06.94-2.06 2.06-.94-2.06-.94-.94-2.06-.94 2.06-2.06.94z\"/><path d=\"M17.41 7.96l-1.37-1.37c-.4-.4-.92-.59-1.43-.59-.52 0-1.04.2-1.43.59L10.3 9.45l-7.72 7.72c-.78.78-.78 2.05 0 2.83L4 21.41c.39.39.9.59 1.41.59.51 0 1.02-.2 1.41-.59l7.78-7.78 2.81-2.81c.8-.78.8-2.07 0-2.86zM5.41 20L4 18.59l7.72-7.72 1.47 1.35L5.41 20z\"/>\n",
              "  </svg>\n",
              "      </button>\n",
              "      \n",
              "  <style>\n",
              "    .colab-df-container {\n",
              "      display:flex;\n",
              "      flex-wrap:wrap;\n",
              "      gap: 12px;\n",
              "    }\n",
              "\n",
              "    .colab-df-convert {\n",
              "      background-color: #E8F0FE;\n",
              "      border: none;\n",
              "      border-radius: 50%;\n",
              "      cursor: pointer;\n",
              "      display: none;\n",
              "      fill: #1967D2;\n",
              "      height: 32px;\n",
              "      padding: 0 0 0 0;\n",
              "      width: 32px;\n",
              "    }\n",
              "\n",
              "    .colab-df-convert:hover {\n",
              "      background-color: #E2EBFA;\n",
              "      box-shadow: 0px 1px 2px rgba(60, 64, 67, 0.3), 0px 1px 3px 1px rgba(60, 64, 67, 0.15);\n",
              "      fill: #174EA6;\n",
              "    }\n",
              "\n",
              "    [theme=dark] .colab-df-convert {\n",
              "      background-color: #3B4455;\n",
              "      fill: #D2E3FC;\n",
              "    }\n",
              "\n",
              "    [theme=dark] .colab-df-convert:hover {\n",
              "      background-color: #434B5C;\n",
              "      box-shadow: 0px 1px 3px 1px rgba(0, 0, 0, 0.15);\n",
              "      filter: drop-shadow(0px 1px 2px rgba(0, 0, 0, 0.3));\n",
              "      fill: #FFFFFF;\n",
              "    }\n",
              "  </style>\n",
              "\n",
              "      <script>\n",
              "        const buttonEl =\n",
              "          document.querySelector('#df-e937e22c-a2e4-4c3c-bb47-b94353499b32 button.colab-df-convert');\n",
              "        buttonEl.style.display =\n",
              "          google.colab.kernel.accessAllowed ? 'block' : 'none';\n",
              "\n",
              "        async function convertToInteractive(key) {\n",
              "          const element = document.querySelector('#df-e937e22c-a2e4-4c3c-bb47-b94353499b32');\n",
              "          const dataTable =\n",
              "            await google.colab.kernel.invokeFunction('convertToInteractive',\n",
              "                                                     [key], {});\n",
              "          if (!dataTable) return;\n",
              "\n",
              "          const docLinkHtml = 'Like what you see? Visit the ' +\n",
              "            '<a target=\"_blank\" href=https://colab.research.google.com/notebooks/data_table.ipynb>data table notebook</a>'\n",
              "            + ' to learn more about interactive tables.';\n",
              "          element.innerHTML = '';\n",
              "          dataTable['output_type'] = 'display_data';\n",
              "          await google.colab.output.renderOutput(dataTable, element);\n",
              "          const docLink = document.createElement('div');\n",
              "          docLink.innerHTML = docLinkHtml;\n",
              "          element.appendChild(docLink);\n",
              "        }\n",
              "      </script>\n",
              "    </div>\n",
              "  </div>\n",
              "  "
            ]
          },
          "metadata": {},
          "execution_count": 45
        }
      ],
      "source": [
        "encoder_df.tail()"
      ]
    },
    {
      "cell_type": "markdown",
      "id": "94d37ed6",
      "metadata": {
        "id": "94d37ed6"
      },
      "source": [
        "# Target, Feature Split"
      ]
    },
    {
      "cell_type": "markdown",
      "id": "a6e47096",
      "metadata": {
        "id": "a6e47096"
      },
      "source": [
        "Target Selection\n",
        "\n",
        "\n",
        "'isFraud' Ustunni tanlash (Y)"
      ]
    },
    {
      "cell_type": "code",
      "execution_count": 46,
      "id": "872f3550",
      "metadata": {
        "id": "872f3550"
      },
      "outputs": [],
      "source": [
        "Y = encoder_df['isFraud']"
      ]
    },
    {
      "cell_type": "code",
      "execution_count": 47,
      "id": "04ee0c20",
      "metadata": {
        "id": "04ee0c20"
      },
      "outputs": [],
      "source": [
        "features = encoder_df.drop('isFraud', axis=1)"
      ]
    },
    {
      "cell_type": "code",
      "execution_count": 48,
      "id": "66325490",
      "metadata": {
        "id": "66325490"
      },
      "outputs": [],
      "source": [
        "\n",
        "X = features"
      ]
    },
    {
      "cell_type": "code",
      "execution_count": 49,
      "id": "b7ac5ba6",
      "metadata": {
        "id": "b7ac5ba6",
        "outputId": "4fa0e4fd-dff8-443d-806e-588b291b2524",
        "colab": {
          "base_uri": "https://localhost:8080/"
        }
      },
      "outputs": [
        {
          "output_type": "execute_result",
          "data": {
            "text/plain": [
              "23092    0.0\n",
              "16629    0.0\n",
              "8583     0.0\n",
              "15223    0.0\n",
              "17755    0.0\n",
              "Name: isFraud, dtype: float64"
            ]
          },
          "metadata": {},
          "execution_count": 49
        }
      ],
      "source": [
        "Y.head()"
      ]
    },
    {
      "cell_type": "code",
      "execution_count": 50,
      "id": "6371c86c",
      "metadata": {
        "id": "6371c86c",
        "outputId": "fce0c8d2-aae1-4619-f8d8-34a9cd661c9d",
        "colab": {
          "base_uri": "https://localhost:8080/",
          "height": 299
        }
      },
      "outputs": [
        {
          "output_type": "execute_result",
          "data": {
            "text/plain": [
              "       step     amount  oldbalanceOrg  newbalanceOrig  oldbalanceDest  \\\n",
              "23092     8  281736.24     3040331.98      3322068.22      1049310.94   \n",
              "16629     8  614556.68         526.00            0.00        14495.00   \n",
              "8583      7   32512.41     4125948.97      4158461.38        60237.85   \n",
              "15223     8   11452.68       49896.93        38444.25            0.00   \n",
              "17755     8  418626.26       40405.61            0.00            0.00   \n",
              "\n",
              "       newbalanceDest  type_CASH_IN  type_CASH_OUT  type_DEBIT  type_PAYMENT  \\\n",
              "23092      1655416.88             1              0           0             0   \n",
              "16629      2221293.55             0              0           0             0   \n",
              "8583        428593.84             1              0           0             0   \n",
              "15223            0.00             0              0           0             1   \n",
              "17755      1173901.80             0              1           0             0   \n",
              "\n",
              "       ...  nameDest_M977650730  nameDest_M979425573  nameDest_M981018779  \\\n",
              "23092  ...                    0                    0                    0   \n",
              "16629  ...                    0                    0                    0   \n",
              "8583   ...                    0                    0                    0   \n",
              "15223  ...                    0                    0                    0   \n",
              "17755  ...                    0                    0                    0   \n",
              "\n",
              "       nameDest_M984618448  nameDest_M989992548  nameDest_M996509179  \\\n",
              "23092                    0                    0                    0   \n",
              "16629                    0                    0                    0   \n",
              "8583                     0                    0                    0   \n",
              "15223                    0                    0                    0   \n",
              "17755                    0                    0                    0   \n",
              "\n",
              "       nameDest_M997919131  nameDest_M998703767  nameDest_M999221400  \\\n",
              "23092                    0                    0                    0   \n",
              "16629                    0                    0                    0   \n",
              "8583                     0                    0                    0   \n",
              "15223                    0                    0                    0   \n",
              "17755                    0                    0                    0   \n",
              "\n",
              "       nameDest_M999797422  \n",
              "23092                    0  \n",
              "16629                    0  \n",
              "8583                     0  \n",
              "15223                    0  \n",
              "17755                    0  \n",
              "\n",
              "[5 rows x 2328 columns]"
            ],
            "text/html": [
              "\n",
              "  <div id=\"df-7f973716-bcd5-417a-9a9a-705c8259aa61\">\n",
              "    <div class=\"colab-df-container\">\n",
              "      <div>\n",
              "<style scoped>\n",
              "    .dataframe tbody tr th:only-of-type {\n",
              "        vertical-align: middle;\n",
              "    }\n",
              "\n",
              "    .dataframe tbody tr th {\n",
              "        vertical-align: top;\n",
              "    }\n",
              "\n",
              "    .dataframe thead th {\n",
              "        text-align: right;\n",
              "    }\n",
              "</style>\n",
              "<table border=\"1\" class=\"dataframe\">\n",
              "  <thead>\n",
              "    <tr style=\"text-align: right;\">\n",
              "      <th></th>\n",
              "      <th>step</th>\n",
              "      <th>amount</th>\n",
              "      <th>oldbalanceOrg</th>\n",
              "      <th>newbalanceOrig</th>\n",
              "      <th>oldbalanceDest</th>\n",
              "      <th>newbalanceDest</th>\n",
              "      <th>type_CASH_IN</th>\n",
              "      <th>type_CASH_OUT</th>\n",
              "      <th>type_DEBIT</th>\n",
              "      <th>type_PAYMENT</th>\n",
              "      <th>...</th>\n",
              "      <th>nameDest_M977650730</th>\n",
              "      <th>nameDest_M979425573</th>\n",
              "      <th>nameDest_M981018779</th>\n",
              "      <th>nameDest_M984618448</th>\n",
              "      <th>nameDest_M989992548</th>\n",
              "      <th>nameDest_M996509179</th>\n",
              "      <th>nameDest_M997919131</th>\n",
              "      <th>nameDest_M998703767</th>\n",
              "      <th>nameDest_M999221400</th>\n",
              "      <th>nameDest_M999797422</th>\n",
              "    </tr>\n",
              "  </thead>\n",
              "  <tbody>\n",
              "    <tr>\n",
              "      <th>23092</th>\n",
              "      <td>8</td>\n",
              "      <td>281736.24</td>\n",
              "      <td>3040331.98</td>\n",
              "      <td>3322068.22</td>\n",
              "      <td>1049310.94</td>\n",
              "      <td>1655416.88</td>\n",
              "      <td>1</td>\n",
              "      <td>0</td>\n",
              "      <td>0</td>\n",
              "      <td>0</td>\n",
              "      <td>...</td>\n",
              "      <td>0</td>\n",
              "      <td>0</td>\n",
              "      <td>0</td>\n",
              "      <td>0</td>\n",
              "      <td>0</td>\n",
              "      <td>0</td>\n",
              "      <td>0</td>\n",
              "      <td>0</td>\n",
              "      <td>0</td>\n",
              "      <td>0</td>\n",
              "    </tr>\n",
              "    <tr>\n",
              "      <th>16629</th>\n",
              "      <td>8</td>\n",
              "      <td>614556.68</td>\n",
              "      <td>526.00</td>\n",
              "      <td>0.00</td>\n",
              "      <td>14495.00</td>\n",
              "      <td>2221293.55</td>\n",
              "      <td>0</td>\n",
              "      <td>0</td>\n",
              "      <td>0</td>\n",
              "      <td>0</td>\n",
              "      <td>...</td>\n",
              "      <td>0</td>\n",
              "      <td>0</td>\n",
              "      <td>0</td>\n",
              "      <td>0</td>\n",
              "      <td>0</td>\n",
              "      <td>0</td>\n",
              "      <td>0</td>\n",
              "      <td>0</td>\n",
              "      <td>0</td>\n",
              "      <td>0</td>\n",
              "    </tr>\n",
              "    <tr>\n",
              "      <th>8583</th>\n",
              "      <td>7</td>\n",
              "      <td>32512.41</td>\n",
              "      <td>4125948.97</td>\n",
              "      <td>4158461.38</td>\n",
              "      <td>60237.85</td>\n",
              "      <td>428593.84</td>\n",
              "      <td>1</td>\n",
              "      <td>0</td>\n",
              "      <td>0</td>\n",
              "      <td>0</td>\n",
              "      <td>...</td>\n",
              "      <td>0</td>\n",
              "      <td>0</td>\n",
              "      <td>0</td>\n",
              "      <td>0</td>\n",
              "      <td>0</td>\n",
              "      <td>0</td>\n",
              "      <td>0</td>\n",
              "      <td>0</td>\n",
              "      <td>0</td>\n",
              "      <td>0</td>\n",
              "    </tr>\n",
              "    <tr>\n",
              "      <th>15223</th>\n",
              "      <td>8</td>\n",
              "      <td>11452.68</td>\n",
              "      <td>49896.93</td>\n",
              "      <td>38444.25</td>\n",
              "      <td>0.00</td>\n",
              "      <td>0.00</td>\n",
              "      <td>0</td>\n",
              "      <td>0</td>\n",
              "      <td>0</td>\n",
              "      <td>1</td>\n",
              "      <td>...</td>\n",
              "      <td>0</td>\n",
              "      <td>0</td>\n",
              "      <td>0</td>\n",
              "      <td>0</td>\n",
              "      <td>0</td>\n",
              "      <td>0</td>\n",
              "      <td>0</td>\n",
              "      <td>0</td>\n",
              "      <td>0</td>\n",
              "      <td>0</td>\n",
              "    </tr>\n",
              "    <tr>\n",
              "      <th>17755</th>\n",
              "      <td>8</td>\n",
              "      <td>418626.26</td>\n",
              "      <td>40405.61</td>\n",
              "      <td>0.00</td>\n",
              "      <td>0.00</td>\n",
              "      <td>1173901.80</td>\n",
              "      <td>0</td>\n",
              "      <td>1</td>\n",
              "      <td>0</td>\n",
              "      <td>0</td>\n",
              "      <td>...</td>\n",
              "      <td>0</td>\n",
              "      <td>0</td>\n",
              "      <td>0</td>\n",
              "      <td>0</td>\n",
              "      <td>0</td>\n",
              "      <td>0</td>\n",
              "      <td>0</td>\n",
              "      <td>0</td>\n",
              "      <td>0</td>\n",
              "      <td>0</td>\n",
              "    </tr>\n",
              "  </tbody>\n",
              "</table>\n",
              "<p>5 rows × 2328 columns</p>\n",
              "</div>\n",
              "      <button class=\"colab-df-convert\" onclick=\"convertToInteractive('df-7f973716-bcd5-417a-9a9a-705c8259aa61')\"\n",
              "              title=\"Convert this dataframe to an interactive table.\"\n",
              "              style=\"display:none;\">\n",
              "        \n",
              "  <svg xmlns=\"http://www.w3.org/2000/svg\" height=\"24px\"viewBox=\"0 0 24 24\"\n",
              "       width=\"24px\">\n",
              "    <path d=\"M0 0h24v24H0V0z\" fill=\"none\"/>\n",
              "    <path d=\"M18.56 5.44l.94 2.06.94-2.06 2.06-.94-2.06-.94-.94-2.06-.94 2.06-2.06.94zm-11 1L8.5 8.5l.94-2.06 2.06-.94-2.06-.94L8.5 2.5l-.94 2.06-2.06.94zm10 10l.94 2.06.94-2.06 2.06-.94-2.06-.94-.94-2.06-.94 2.06-2.06.94z\"/><path d=\"M17.41 7.96l-1.37-1.37c-.4-.4-.92-.59-1.43-.59-.52 0-1.04.2-1.43.59L10.3 9.45l-7.72 7.72c-.78.78-.78 2.05 0 2.83L4 21.41c.39.39.9.59 1.41.59.51 0 1.02-.2 1.41-.59l7.78-7.78 2.81-2.81c.8-.78.8-2.07 0-2.86zM5.41 20L4 18.59l7.72-7.72 1.47 1.35L5.41 20z\"/>\n",
              "  </svg>\n",
              "      </button>\n",
              "      \n",
              "  <style>\n",
              "    .colab-df-container {\n",
              "      display:flex;\n",
              "      flex-wrap:wrap;\n",
              "      gap: 12px;\n",
              "    }\n",
              "\n",
              "    .colab-df-convert {\n",
              "      background-color: #E8F0FE;\n",
              "      border: none;\n",
              "      border-radius: 50%;\n",
              "      cursor: pointer;\n",
              "      display: none;\n",
              "      fill: #1967D2;\n",
              "      height: 32px;\n",
              "      padding: 0 0 0 0;\n",
              "      width: 32px;\n",
              "    }\n",
              "\n",
              "    .colab-df-convert:hover {\n",
              "      background-color: #E2EBFA;\n",
              "      box-shadow: 0px 1px 2px rgba(60, 64, 67, 0.3), 0px 1px 3px 1px rgba(60, 64, 67, 0.15);\n",
              "      fill: #174EA6;\n",
              "    }\n",
              "\n",
              "    [theme=dark] .colab-df-convert {\n",
              "      background-color: #3B4455;\n",
              "      fill: #D2E3FC;\n",
              "    }\n",
              "\n",
              "    [theme=dark] .colab-df-convert:hover {\n",
              "      background-color: #434B5C;\n",
              "      box-shadow: 0px 1px 3px 1px rgba(0, 0, 0, 0.15);\n",
              "      filter: drop-shadow(0px 1px 2px rgba(0, 0, 0, 0.3));\n",
              "      fill: #FFFFFF;\n",
              "    }\n",
              "  </style>\n",
              "\n",
              "      <script>\n",
              "        const buttonEl =\n",
              "          document.querySelector('#df-7f973716-bcd5-417a-9a9a-705c8259aa61 button.colab-df-convert');\n",
              "        buttonEl.style.display =\n",
              "          google.colab.kernel.accessAllowed ? 'block' : 'none';\n",
              "\n",
              "        async function convertToInteractive(key) {\n",
              "          const element = document.querySelector('#df-7f973716-bcd5-417a-9a9a-705c8259aa61');\n",
              "          const dataTable =\n",
              "            await google.colab.kernel.invokeFunction('convertToInteractive',\n",
              "                                                     [key], {});\n",
              "          if (!dataTable) return;\n",
              "\n",
              "          const docLinkHtml = 'Like what you see? Visit the ' +\n",
              "            '<a target=\"_blank\" href=https://colab.research.google.com/notebooks/data_table.ipynb>data table notebook</a>'\n",
              "            + ' to learn more about interactive tables.';\n",
              "          element.innerHTML = '';\n",
              "          dataTable['output_type'] = 'display_data';\n",
              "          await google.colab.output.renderOutput(dataTable, element);\n",
              "          const docLink = document.createElement('div');\n",
              "          docLink.innerHTML = docLinkHtml;\n",
              "          element.appendChild(docLink);\n",
              "        }\n",
              "      </script>\n",
              "    </div>\n",
              "  </div>\n",
              "  "
            ]
          },
          "metadata": {},
          "execution_count": 50
        }
      ],
      "source": [
        "X.head()"
      ]
    },
    {
      "cell_type": "code",
      "execution_count": 51,
      "id": "099c0717",
      "metadata": {
        "id": "099c0717"
      },
      "outputs": [],
      "source": [
        "from sklearn.model_selection import train_test_split"
      ]
    },
    {
      "cell_type": "code",
      "execution_count": 52,
      "id": "aaf2e1ad",
      "metadata": {
        "id": "aaf2e1ad"
      },
      "outputs": [],
      "source": [
        "#malumotlarni train va test setlarga ajratish \n",
        "\n",
        "X_train, X_test, Y_train, Y_test = train_test_split(X,Y,test_size=0.2, stratify=Y, random_state=2)\n"
      ]
    },
    {
      "cell_type": "code",
      "execution_count": null,
      "id": "6d3eead1",
      "metadata": {
        "id": "6d3eead1",
        "outputId": "93bf8ff3-eeba-4a7e-b773-5752aa5a5e5c"
      },
      "outputs": [
        {
          "name": "stdout",
          "output_type": "stream",
          "text": [
            "\n",
            "          step    amount  oldbalanceOrg  newbalanceOrig  oldbalanceDest  \\\n",
            "1030484    67  106460.7      106460.70             0.0      1414263.15   \n",
            "257895     14   14487.7        7038.86             0.0            0.00   \n",
            "\n",
            "         newbalanceDest  type_CASH_IN  type_CASH_OUT  type_DEBIT  \\\n",
            "1030484      1520723.84             0              1           0   \n",
            "257895             0.00             0              0           0   \n",
            "\n",
            "         type_PAYMENT  ...  nameDest_M937351412  nameDest_M941819956  \\\n",
            "1030484             0  ...                    0                    0   \n",
            "257895              1  ...                    0                    0   \n",
            "\n",
            "         nameDest_M944740216  nameDest_M955685432  nameDest_M960127682  \\\n",
            "1030484                    0                    0                    0   \n",
            "257895                     0                    0                    0   \n",
            "\n",
            "         nameDest_M960655646  nameDest_M966017907  nameDest_M973092639  \\\n",
            "1030484                    0                    0                    0   \n",
            "257895                     0                    0                    0   \n",
            "\n",
            "         nameDest_M977934010  nameDest_M979532084  \n",
            "1030484                    0                    0  \n",
            "257895                     0                    0  \n",
            "\n",
            "[2 rows x 4558 columns]\n",
            "\n",
            "          step      amount  oldbalanceOrg  newbalanceOrig  oldbalanceDest  \\\n",
            "1030444    65  1282971.57     1282971.57             0.0       392604.60   \n",
            "421586     18    11481.00       11481.00             0.0       761417.61   \n",
            "\n",
            "         newbalanceDest  type_CASH_IN  type_CASH_OUT  type_DEBIT  \\\n",
            "1030444      1675576.17             0              1           0   \n",
            "421586       1765080.50             0              1           0   \n",
            "\n",
            "         type_PAYMENT  ...  nameDest_M937351412  nameDest_M941819956  \\\n",
            "1030444             0  ...                    0                    0   \n",
            "421586              0  ...                    0                    0   \n",
            "\n",
            "         nameDest_M944740216  nameDest_M955685432  nameDest_M960127682  \\\n",
            "1030444                    0                    0                    0   \n",
            "421586                     0                    0                    0   \n",
            "\n",
            "         nameDest_M960655646  nameDest_M966017907  nameDest_M973092639  \\\n",
            "1030444                    0                    0                    0   \n",
            "421586                     0                    0                    0   \n",
            "\n",
            "         nameDest_M977934010  nameDest_M979532084  \n",
            "1030444                    0                    0  \n",
            "421586                     0                    0  \n",
            "\n",
            "[2 rows x 4558 columns]\n",
            "\n",
            " 1030484    1\n",
            "257895     0\n",
            "Name: isFraud, dtype: int64\n",
            "\n",
            " 1030444    1\n",
            "421586     1\n",
            "Name: isFraud, dtype: int64\n"
          ]
        }
      ],
      "source": [
        "print('\\n',X_train.head(2))\n",
        "\n",
        "print('\\n',X_test.head(2))\n",
        "\n",
        "print('\\n',Y_train.head(2))\n",
        "\n",
        "print('\\n',Y_test.head(2))"
      ]
    },
    {
      "cell_type": "markdown",
      "id": "1c56122a",
      "metadata": {
        "id": "1c56122a"
      },
      "source": [
        "# Training our Classification Model with a Logistic Regression Classifier"
      ]
    },
    {
      "cell_type": "code",
      "execution_count": 53,
      "id": "30378030",
      "metadata": {
        "id": "30378030"
      },
      "outputs": [],
      "source": [
        "from sklearn.linear_model import LogisticRegression"
      ]
    },
    {
      "cell_type": "code",
      "execution_count": 54,
      "id": "737de51f",
      "metadata": {
        "id": "737de51f"
      },
      "outputs": [],
      "source": [
        "model = LogisticRegression()"
      ]
    },
    {
      "cell_type": "code",
      "execution_count": 55,
      "id": "2c9939a8",
      "metadata": {
        "id": "2c9939a8",
        "outputId": "e58c8bbe-a153-47d1-b59a-02219340378a",
        "colab": {
          "base_uri": "https://localhost:8080/"
        }
      },
      "outputs": [
        {
          "output_type": "execute_result",
          "data": {
            "text/plain": [
              "LogisticRegression()"
            ]
          },
          "metadata": {},
          "execution_count": 55
        }
      ],
      "source": [
        "\n",
        "model.fit(X_train, Y_train)"
      ]
    },
    {
      "cell_type": "code",
      "execution_count": 56,
      "id": "7d1f89bb",
      "metadata": {
        "id": "7d1f89bb"
      },
      "outputs": [],
      "source": [
        "\n",
        "\n",
        "model_pred = model.predict(X_test)"
      ]
    },
    {
      "cell_type": "code",
      "execution_count": 57,
      "id": "71c028bc",
      "metadata": {
        "id": "71c028bc"
      },
      "outputs": [],
      "source": [
        "\n",
        "probs = model.predict_proba(X_test)"
      ]
    },
    {
      "cell_type": "markdown",
      "id": "246fce1e",
      "metadata": {
        "id": "246fce1e"
      },
      "source": [
        "## Logistic Regression Model Evaluation"
      ]
    },
    {
      "cell_type": "code",
      "execution_count": 58,
      "id": "303e8fdc",
      "metadata": {
        "id": "303e8fdc"
      },
      "outputs": [],
      "source": [
        "\n",
        "from sklearn import metrics\n",
        "from sklearn.metrics import confusion_matrix, classification_report, f1_score, accuracy_score, precision_recall_curve, average_precision_score, roc_auc_score"
      ]
    },
    {
      "cell_type": "code",
      "execution_count": 59,
      "id": "032005a3",
      "metadata": {
        "id": "032005a3",
        "outputId": "ec9a7099-7147-4ec4-bbbd-c7234b22f798",
        "colab": {
          "base_uri": "https://localhost:8080/"
        }
      },
      "outputs": [
        {
          "output_type": "stream",
          "name": "stdout",
          "text": [
            "\n",
            "Classification Report:\n",
            "              precision    recall  f1-score   support\n",
            "\n",
            "         0.0       0.98      0.97      0.98       229\n",
            "         1.0       0.68      0.76      0.72        17\n",
            "\n",
            "    accuracy                           0.96       246\n",
            "   macro avg       0.83      0.87      0.85       246\n",
            "weighted avg       0.96      0.96      0.96       246\n",
            "\n"
          ]
        }
      ],
      "source": [
        "print('\\nClassification Report:')\n",
        "print(classification_report(Y_test, model_pred))"
      ]
    },
    {
      "cell_type": "code",
      "execution_count": 60,
      "id": "32f43f62",
      "metadata": {
        "id": "32f43f62",
        "outputId": "1b809c89-1494-4f79-cfc9-5b4bc0207fd7",
        "colab": {
          "base_uri": "https://localhost:8080/",
          "height": 112
        }
      },
      "outputs": [
        {
          "output_type": "execute_result",
          "data": {
            "text/plain": [
              "                      Predicted Negative(0)   Predicted Positive(1)\n",
              "Actually Negative(0)                     223                      6\n",
              "Actually Positive(1)                       4                     13"
            ],
            "text/html": [
              "\n",
              "  <div id=\"df-87bf97fe-c836-4adf-b010-a3c4054a0148\">\n",
              "    <div class=\"colab-df-container\">\n",
              "      <div>\n",
              "<style scoped>\n",
              "    .dataframe tbody tr th:only-of-type {\n",
              "        vertical-align: middle;\n",
              "    }\n",
              "\n",
              "    .dataframe tbody tr th {\n",
              "        vertical-align: top;\n",
              "    }\n",
              "\n",
              "    .dataframe thead th {\n",
              "        text-align: right;\n",
              "    }\n",
              "</style>\n",
              "<table border=\"1\" class=\"dataframe\">\n",
              "  <thead>\n",
              "    <tr style=\"text-align: right;\">\n",
              "      <th></th>\n",
              "      <th>Predicted Negative(0)</th>\n",
              "      <th>Predicted Positive(1)</th>\n",
              "    </tr>\n",
              "  </thead>\n",
              "  <tbody>\n",
              "    <tr>\n",
              "      <th>Actually Negative(0)</th>\n",
              "      <td>223</td>\n",
              "      <td>6</td>\n",
              "    </tr>\n",
              "    <tr>\n",
              "      <th>Actually Positive(1)</th>\n",
              "      <td>4</td>\n",
              "      <td>13</td>\n",
              "    </tr>\n",
              "  </tbody>\n",
              "</table>\n",
              "</div>\n",
              "      <button class=\"colab-df-convert\" onclick=\"convertToInteractive('df-87bf97fe-c836-4adf-b010-a3c4054a0148')\"\n",
              "              title=\"Convert this dataframe to an interactive table.\"\n",
              "              style=\"display:none;\">\n",
              "        \n",
              "  <svg xmlns=\"http://www.w3.org/2000/svg\" height=\"24px\"viewBox=\"0 0 24 24\"\n",
              "       width=\"24px\">\n",
              "    <path d=\"M0 0h24v24H0V0z\" fill=\"none\"/>\n",
              "    <path d=\"M18.56 5.44l.94 2.06.94-2.06 2.06-.94-2.06-.94-.94-2.06-.94 2.06-2.06.94zm-11 1L8.5 8.5l.94-2.06 2.06-.94-2.06-.94L8.5 2.5l-.94 2.06-2.06.94zm10 10l.94 2.06.94-2.06 2.06-.94-2.06-.94-.94-2.06-.94 2.06-2.06.94z\"/><path d=\"M17.41 7.96l-1.37-1.37c-.4-.4-.92-.59-1.43-.59-.52 0-1.04.2-1.43.59L10.3 9.45l-7.72 7.72c-.78.78-.78 2.05 0 2.83L4 21.41c.39.39.9.59 1.41.59.51 0 1.02-.2 1.41-.59l7.78-7.78 2.81-2.81c.8-.78.8-2.07 0-2.86zM5.41 20L4 18.59l7.72-7.72 1.47 1.35L5.41 20z\"/>\n",
              "  </svg>\n",
              "      </button>\n",
              "      \n",
              "  <style>\n",
              "    .colab-df-container {\n",
              "      display:flex;\n",
              "      flex-wrap:wrap;\n",
              "      gap: 12px;\n",
              "    }\n",
              "\n",
              "    .colab-df-convert {\n",
              "      background-color: #E8F0FE;\n",
              "      border: none;\n",
              "      border-radius: 50%;\n",
              "      cursor: pointer;\n",
              "      display: none;\n",
              "      fill: #1967D2;\n",
              "      height: 32px;\n",
              "      padding: 0 0 0 0;\n",
              "      width: 32px;\n",
              "    }\n",
              "\n",
              "    .colab-df-convert:hover {\n",
              "      background-color: #E2EBFA;\n",
              "      box-shadow: 0px 1px 2px rgba(60, 64, 67, 0.3), 0px 1px 3px 1px rgba(60, 64, 67, 0.15);\n",
              "      fill: #174EA6;\n",
              "    }\n",
              "\n",
              "    [theme=dark] .colab-df-convert {\n",
              "      background-color: #3B4455;\n",
              "      fill: #D2E3FC;\n",
              "    }\n",
              "\n",
              "    [theme=dark] .colab-df-convert:hover {\n",
              "      background-color: #434B5C;\n",
              "      box-shadow: 0px 1px 3px 1px rgba(0, 0, 0, 0.15);\n",
              "      filter: drop-shadow(0px 1px 2px rgba(0, 0, 0, 0.3));\n",
              "      fill: #FFFFFF;\n",
              "    }\n",
              "  </style>\n",
              "\n",
              "      <script>\n",
              "        const buttonEl =\n",
              "          document.querySelector('#df-87bf97fe-c836-4adf-b010-a3c4054a0148 button.colab-df-convert');\n",
              "        buttonEl.style.display =\n",
              "          google.colab.kernel.accessAllowed ? 'block' : 'none';\n",
              "\n",
              "        async function convertToInteractive(key) {\n",
              "          const element = document.querySelector('#df-87bf97fe-c836-4adf-b010-a3c4054a0148');\n",
              "          const dataTable =\n",
              "            await google.colab.kernel.invokeFunction('convertToInteractive',\n",
              "                                                     [key], {});\n",
              "          if (!dataTable) return;\n",
              "\n",
              "          const docLinkHtml = 'Like what you see? Visit the ' +\n",
              "            '<a target=\"_blank\" href=https://colab.research.google.com/notebooks/data_table.ipynb>data table notebook</a>'\n",
              "            + ' to learn more about interactive tables.';\n",
              "          element.innerHTML = '';\n",
              "          dataTable['output_type'] = 'display_data';\n",
              "          await google.colab.output.renderOutput(dataTable, element);\n",
              "          const docLink = document.createElement('div');\n",
              "          docLink.innerHTML = docLinkHtml;\n",
              "          element.appendChild(docLink);\n",
              "        }\n",
              "      </script>\n",
              "    </div>\n",
              "  </div>\n",
              "  "
            ]
          },
          "metadata": {},
          "execution_count": 60
        }
      ],
      "source": [
        "\n",
        "pd.DataFrame(confusion_matrix(Y_test, model_pred), \n",
        "             columns=['Predicted Negative(0) ', 'Predicted Positive(1)'], \n",
        "             index=['Actually Negative(0)', 'Actually Positive(1)'])"
      ]
    },
    {
      "cell_type": "code",
      "execution_count": 61,
      "id": "594b5399",
      "metadata": {
        "id": "594b5399",
        "outputId": "a28e08ed-6aa0-40c0-cdf8-160d082e9b98",
        "colab": {
          "base_uri": "https://localhost:8080/",
          "height": 112
        }
      },
      "outputs": [
        {
          "output_type": "execute_result",
          "data": {
            "text/plain": [
              "                       Predicted Not Fraud(0)   Predicted Fraud(1)\n",
              "Actually Not Fraud(0)                      223                   6\n",
              "Actually Fraud(1)                            4                  13"
            ],
            "text/html": [
              "\n",
              "  <div id=\"df-b3bed20f-0fa7-429b-b801-e8a6e086b546\">\n",
              "    <div class=\"colab-df-container\">\n",
              "      <div>\n",
              "<style scoped>\n",
              "    .dataframe tbody tr th:only-of-type {\n",
              "        vertical-align: middle;\n",
              "    }\n",
              "\n",
              "    .dataframe tbody tr th {\n",
              "        vertical-align: top;\n",
              "    }\n",
              "\n",
              "    .dataframe thead th {\n",
              "        text-align: right;\n",
              "    }\n",
              "</style>\n",
              "<table border=\"1\" class=\"dataframe\">\n",
              "  <thead>\n",
              "    <tr style=\"text-align: right;\">\n",
              "      <th></th>\n",
              "      <th>Predicted Not Fraud(0)</th>\n",
              "      <th>Predicted Fraud(1)</th>\n",
              "    </tr>\n",
              "  </thead>\n",
              "  <tbody>\n",
              "    <tr>\n",
              "      <th>Actually Not Fraud(0)</th>\n",
              "      <td>223</td>\n",
              "      <td>6</td>\n",
              "    </tr>\n",
              "    <tr>\n",
              "      <th>Actually Fraud(1)</th>\n",
              "      <td>4</td>\n",
              "      <td>13</td>\n",
              "    </tr>\n",
              "  </tbody>\n",
              "</table>\n",
              "</div>\n",
              "      <button class=\"colab-df-convert\" onclick=\"convertToInteractive('df-b3bed20f-0fa7-429b-b801-e8a6e086b546')\"\n",
              "              title=\"Convert this dataframe to an interactive table.\"\n",
              "              style=\"display:none;\">\n",
              "        \n",
              "  <svg xmlns=\"http://www.w3.org/2000/svg\" height=\"24px\"viewBox=\"0 0 24 24\"\n",
              "       width=\"24px\">\n",
              "    <path d=\"M0 0h24v24H0V0z\" fill=\"none\"/>\n",
              "    <path d=\"M18.56 5.44l.94 2.06.94-2.06 2.06-.94-2.06-.94-.94-2.06-.94 2.06-2.06.94zm-11 1L8.5 8.5l.94-2.06 2.06-.94-2.06-.94L8.5 2.5l-.94 2.06-2.06.94zm10 10l.94 2.06.94-2.06 2.06-.94-2.06-.94-.94-2.06-.94 2.06-2.06.94z\"/><path d=\"M17.41 7.96l-1.37-1.37c-.4-.4-.92-.59-1.43-.59-.52 0-1.04.2-1.43.59L10.3 9.45l-7.72 7.72c-.78.78-.78 2.05 0 2.83L4 21.41c.39.39.9.59 1.41.59.51 0 1.02-.2 1.41-.59l7.78-7.78 2.81-2.81c.8-.78.8-2.07 0-2.86zM5.41 20L4 18.59l7.72-7.72 1.47 1.35L5.41 20z\"/>\n",
              "  </svg>\n",
              "      </button>\n",
              "      \n",
              "  <style>\n",
              "    .colab-df-container {\n",
              "      display:flex;\n",
              "      flex-wrap:wrap;\n",
              "      gap: 12px;\n",
              "    }\n",
              "\n",
              "    .colab-df-convert {\n",
              "      background-color: #E8F0FE;\n",
              "      border: none;\n",
              "      border-radius: 50%;\n",
              "      cursor: pointer;\n",
              "      display: none;\n",
              "      fill: #1967D2;\n",
              "      height: 32px;\n",
              "      padding: 0 0 0 0;\n",
              "      width: 32px;\n",
              "    }\n",
              "\n",
              "    .colab-df-convert:hover {\n",
              "      background-color: #E2EBFA;\n",
              "      box-shadow: 0px 1px 2px rgba(60, 64, 67, 0.3), 0px 1px 3px 1px rgba(60, 64, 67, 0.15);\n",
              "      fill: #174EA6;\n",
              "    }\n",
              "\n",
              "    [theme=dark] .colab-df-convert {\n",
              "      background-color: #3B4455;\n",
              "      fill: #D2E3FC;\n",
              "    }\n",
              "\n",
              "    [theme=dark] .colab-df-convert:hover {\n",
              "      background-color: #434B5C;\n",
              "      box-shadow: 0px 1px 3px 1px rgba(0, 0, 0, 0.15);\n",
              "      filter: drop-shadow(0px 1px 2px rgba(0, 0, 0, 0.3));\n",
              "      fill: #FFFFFF;\n",
              "    }\n",
              "  </style>\n",
              "\n",
              "      <script>\n",
              "        const buttonEl =\n",
              "          document.querySelector('#df-b3bed20f-0fa7-429b-b801-e8a6e086b546 button.colab-df-convert');\n",
              "        buttonEl.style.display =\n",
              "          google.colab.kernel.accessAllowed ? 'block' : 'none';\n",
              "\n",
              "        async function convertToInteractive(key) {\n",
              "          const element = document.querySelector('#df-b3bed20f-0fa7-429b-b801-e8a6e086b546');\n",
              "          const dataTable =\n",
              "            await google.colab.kernel.invokeFunction('convertToInteractive',\n",
              "                                                     [key], {});\n",
              "          if (!dataTable) return;\n",
              "\n",
              "          const docLinkHtml = 'Like what you see? Visit the ' +\n",
              "            '<a target=\"_blank\" href=https://colab.research.google.com/notebooks/data_table.ipynb>data table notebook</a>'\n",
              "            + ' to learn more about interactive tables.';\n",
              "          element.innerHTML = '';\n",
              "          dataTable['output_type'] = 'display_data';\n",
              "          await google.colab.output.renderOutput(dataTable, element);\n",
              "          const docLink = document.createElement('div');\n",
              "          docLink.innerHTML = docLinkHtml;\n",
              "          element.appendChild(docLink);\n",
              "        }\n",
              "      </script>\n",
              "    </div>\n",
              "  </div>\n",
              "  "
            ]
          },
          "metadata": {},
          "execution_count": 61
        }
      ],
      "source": [
        "\n",
        "pd.DataFrame(confusion_matrix(Y_test, model_pred), \n",
        "             columns=['Predicted Not Fraud(0) ', 'Predicted Fraud(1)'], \n",
        "             index=['Actually Not Fraud(0)', 'Actually Fraud(1)'])"
      ]
    },
    {
      "cell_type": "code",
      "execution_count": 62,
      "id": "adfb52f6",
      "metadata": {
        "id": "adfb52f6",
        "outputId": "61bdb000-0dbf-4155-ec07-26e780df846c",
        "colab": {
          "base_uri": "https://localhost:8080/"
        }
      },
      "outputs": [
        {
          "output_type": "stream",
          "name": "stdout",
          "text": [
            "Accuracy: 0.959349593495935\n"
          ]
        }
      ],
      "source": [
        "\n",
        "print('Accuracy:',accuracy_score(Y_test, model_pred))"
      ]
    },
    {
      "cell_type": "markdown",
      "id": "f7ced737",
      "metadata": {
        "id": "f7ced737"
      },
      "source": [
        "Bizning logistik regressiya modeli 93% aniqlikni bildiradi"
      ]
    },
    {
      "cell_type": "code",
      "execution_count": 63,
      "id": "c88115a6",
      "metadata": {
        "id": "c88115a6",
        "outputId": "1c95bfa3-1b4a-4ac0-d7c1-c952f51ec127",
        "colab": {
          "base_uri": "https://localhost:8080/"
        }
      },
      "outputs": [
        {
          "output_type": "execute_result",
          "data": {
            "text/plain": [
              "0.539479976843112"
            ]
          },
          "metadata": {},
          "execution_count": 63
        }
      ],
      "source": [
        "\n",
        "average_precision = average_precision_score(Y_test, model_pred)\n",
        "average_precision"
      ]
    },
    {
      "cell_type": "code",
      "execution_count": 64,
      "id": "909be1e9",
      "metadata": {
        "id": "909be1e9",
        "outputId": "8334d1aa-fdc8-4252-96e4-5de68ce2e7f9",
        "colab": {
          "base_uri": "https://localhost:8080/",
          "height": 279
        }
      },
      "outputs": [
        {
          "output_type": "display_data",
          "data": {
            "text/plain": [
              "<Figure size 432x288 with 1 Axes>"
            ],
            "image/png": "[encoded data removed]"
          },
          "metadata": {
            "needs_background": "light"
          }
        }
      ],
      "source": [
        "#define metrics\n",
        "y_pred_proba = model.predict_proba(X_test)[::,1]\n",
        "fpr, tpr, _ = metrics.roc_curve(Y_test,  y_pred_proba)\n",
        "auc = metrics.roc_auc_score(Y_test, y_pred_proba)\n",
        "\n",
        "\n",
        "#create ROC curve\n",
        "plt.plot(fpr,tpr,label=\"AUC=\"+str(auc))\n",
        "plt.ylabel('True ')\n",
        "plt.xlabel('False ')\n",
        "plt.legend(loc=4)\n",
        "plt.show()"
      ]
    },
    {
      "cell_type": "code",
      "execution_count": null,
      "id": "0e20fc60",
      "metadata": {
        "id": "0e20fc60",
        "outputId": "af1ef089-cc55-4576-d50d-9886b0075b54"
      },
      "outputs": [
        {
          "name": "stdout",
          "output_type": "stream",
          "text": [
            "AUC Score:\n",
            "0.9627671799586301\n"
          ]
        }
      ],
      "source": [
        "print('AUC Score:')\n",
        "print(roc_auc_score(Y_test, probs[:,1]))"
      ]
    },
    {
      "cell_type": "markdown",
      "id": "127021ab",
      "metadata": {
        "id": "127021ab"
      },
      "source": [
        "\n",
        "Biz bunda 97% aniqlikda ishlayapti madelimiz "
      ]
    },
    {
      "cell_type": "markdown",
      "id": "5d267d47",
      "metadata": {
        "id": "5d267d47"
      },
      "source": [
        "## Training with Random Forest Classifier"
      ]
    },
    {
      "cell_type": "code",
      "execution_count": null,
      "id": "7e10c16f",
      "metadata": {
        "id": "7e10c16f"
      },
      "outputs": [],
      "source": [
        "from sklearn.ensemble import RandomForestClassifier"
      ]
    },
    {
      "cell_type": "code",
      "execution_count": null,
      "id": "2e021632",
      "metadata": {
        "id": "2e021632"
      },
      "outputs": [],
      "source": [
        "\n",
        "model = RandomForestClassifier(random_state=5, n_estimators=20)"
      ]
    },
    {
      "cell_type": "code",
      "execution_count": null,
      "id": "76ad2bc3",
      "metadata": {
        "id": "76ad2bc3",
        "outputId": "0bbfc0ce-7b53-4180-e766-88076294103b"
      },
      "outputs": [
        {
          "data": {
            "text/plain": [
              "RandomForestClassifier(n_estimators=20, random_state=5)"
            ]
          },
          "execution_count": 75,
          "metadata": {},
          "output_type": "execute_result"
        }
      ],
      "source": [
        "model.fit(X_train,Y_train)"
      ]
    },
    {
      "cell_type": "code",
      "execution_count": null,
      "id": "56e70f8e",
      "metadata": {
        "id": "56e70f8e"
      },
      "outputs": [],
      "source": [
        "model_pred = model.predict(X_test)"
      ]
    },
    {
      "cell_type": "code",
      "execution_count": null,
      "id": "1601272b",
      "metadata": {
        "id": "1601272b"
      },
      "outputs": [],
      "source": [
        "\n",
        "probs = model.predict_proba(X_test)"
      ]
    },
    {
      "cell_type": "markdown",
      "id": "4bb0cf1d",
      "metadata": {
        "id": "4bb0cf1d"
      },
      "source": [
        "##  Random Forest Model Evaluation"
      ]
    },
    {
      "cell_type": "code",
      "execution_count": null,
      "id": "5b2d5ea6",
      "metadata": {
        "id": "5b2d5ea6"
      },
      "outputs": [],
      "source": [
        "\n",
        "from sklearn.metrics import confusion_matrix, classification_report, f1_score, accuracy_score, precision_recall_curve, average_precision_score, roc_auc_score"
      ]
    },
    {
      "cell_type": "code",
      "execution_count": null,
      "id": "a088980e",
      "metadata": {
        "scrolled": true,
        "id": "a088980e",
        "outputId": "3ccd77ee-11c3-4877-c3b7-739e49fb546d"
      },
      "outputs": [
        {
          "name": "stdout",
          "output_type": "stream",
          "text": [
            "Classification_Report:\n",
            "               precision    recall  f1-score   support\n",
            "\n",
            "           0       0.95      0.98      0.97       229\n",
            "           1       0.98      0.95      0.97       228\n",
            "\n",
            "    accuracy                           0.97       457\n",
            "   macro avg       0.97      0.97      0.97       457\n",
            "weighted avg       0.97      0.97      0.97       457\n",
            "\n"
          ]
        }
      ],
      "source": [
        "\n",
        "print('Classification_Report:\\n',classification_report(Y_test, model_pred))"
      ]
    },
    {
      "cell_type": "code",
      "execution_count": null,
      "id": "96d5ada4",
      "metadata": {
        "id": "96d5ada4",
        "outputId": "686a6c2d-5355-4326-e596-3c051f38004a"
      },
      "outputs": [
        {
          "data": {
            "text/html": [
              "<div>\n",
              "<style scoped>\n",
              "    .dataframe tbody tr th:only-of-type {\n",
              "        vertical-align: middle;\n",
              "    }\n",
              "\n",
              "    .dataframe tbody tr th {\n",
              "        vertical-align: top;\n",
              "    }\n",
              "\n",
              "    .dataframe thead th {\n",
              "        text-align: right;\n",
              "    }\n",
              "</style>\n",
              "<table border=\"1\" class=\"dataframe\">\n",
              "  <thead>\n",
              "    <tr style=\"text-align: right;\">\n",
              "      <th></th>\n",
              "      <th>Predicted Negative(0)</th>\n",
              "      <th>Predicted Positive(1)</th>\n",
              "    </tr>\n",
              "  </thead>\n",
              "  <tbody>\n",
              "    <tr>\n",
              "      <th>Actually Negative(0)</th>\n",
              "      <td>225</td>\n",
              "      <td>4</td>\n",
              "    </tr>\n",
              "    <tr>\n",
              "      <th>Actually Positive(1)</th>\n",
              "      <td>11</td>\n",
              "      <td>217</td>\n",
              "    </tr>\n",
              "  </tbody>\n",
              "</table>\n",
              "</div>"
            ],
            "text/plain": [
              "                      Predicted Negative(0)   Predicted Positive(1)\n",
              "Actually Negative(0)                     225                      4\n",
              "Actually Positive(1)                      11                    217"
            ]
          },
          "execution_count": 80,
          "metadata": {},
          "output_type": "execute_result"
        }
      ],
      "source": [
        "\n",
        "pd.DataFrame(confusion_matrix(Y_test, model_pred), \n",
        "             columns=['Predicted Negative(0) ', 'Predicted Positive(1)'], \n",
        "             index=['Actually Negative(0)', 'Actually Positive(1)'])"
      ]
    },
    {
      "cell_type": "code",
      "execution_count": null,
      "id": "4f1183ea",
      "metadata": {
        "id": "4f1183ea",
        "outputId": "0cbb90ad-b7e1-4349-bdeb-a216b08a5cb9"
      },
      "outputs": [
        {
          "data": {
            "text/html": [
              "<div>\n",
              "<style scoped>\n",
              "    .dataframe tbody tr th:only-of-type {\n",
              "        vertical-align: middle;\n",
              "    }\n",
              "\n",
              "    .dataframe tbody tr th {\n",
              "        vertical-align: top;\n",
              "    }\n",
              "\n",
              "    .dataframe thead th {\n",
              "        text-align: right;\n",
              "    }\n",
              "</style>\n",
              "<table border=\"1\" class=\"dataframe\">\n",
              "  <thead>\n",
              "    <tr style=\"text-align: right;\">\n",
              "      <th></th>\n",
              "      <th>Predicted Not Fraud(0)</th>\n",
              "      <th>Predicted Fraud(1)</th>\n",
              "    </tr>\n",
              "  </thead>\n",
              "  <tbody>\n",
              "    <tr>\n",
              "      <th>Actually Not Fraud(0)</th>\n",
              "      <td>224</td>\n",
              "      <td>5</td>\n",
              "    </tr>\n",
              "    <tr>\n",
              "      <th>Actually Fraud(1)</th>\n",
              "      <td>10</td>\n",
              "      <td>218</td>\n",
              "    </tr>\n",
              "  </tbody>\n",
              "</table>\n",
              "</div>"
            ],
            "text/plain": [
              "                       Predicted Not Fraud(0)   Predicted Fraud(1)\n",
              "Actually Not Fraud(0)                      224                   5\n",
              "Actually Fraud(1)                           10                 218"
            ]
          },
          "execution_count": 249,
          "metadata": {},
          "output_type": "execute_result"
        }
      ],
      "source": [
        "\n",
        "pd.DataFrame(confusion_matrix(Y_test, model_pred), \n",
        "             columns=['Predicted Not Fraud(0) ', 'Predicted Fraud(1)'], \n",
        "             index=['Actually Not Fraud(0)', 'Actually Fraud(1)'])"
      ]
    },
    {
      "cell_type": "code",
      "execution_count": null,
      "id": "59f85607",
      "metadata": {
        "id": "59f85607",
        "outputId": "d419f2d5-fa74-473c-cab2-95c5c95473d2"
      },
      "outputs": [
        {
          "name": "stdout",
          "output_type": "stream",
          "text": [
            "Accuracy: 0.9671772428884027\n"
          ]
        }
      ],
      "source": [
        "\n",
        "print('Accuracy:',accuracy_score(Y_test, model_pred))"
      ]
    },
    {
      "cell_type": "markdown",
      "id": "62dab851",
      "metadata": {
        "id": "62dab851"
      },
      "source": [
        "Our Random Forest Model indicates 93% accuracy"
      ]
    },
    {
      "cell_type": "code",
      "execution_count": null,
      "id": "4bfd3ee1",
      "metadata": {
        "id": "4bfd3ee1",
        "outputId": "fbcfba4c-f149-4237-e2fd-a6663eea0188"
      },
      "outputs": [
        {
          "data": {
            "text/plain": [
              "0.9585980841188785"
            ]
          },
          "execution_count": 82,
          "metadata": {},
          "output_type": "execute_result"
        }
      ],
      "source": [
        "\n",
        "average_precision = average_precision_score(Y_test, model_pred)\n",
        "average_precision"
      ]
    },
    {
      "cell_type": "code",
      "execution_count": null,
      "id": "5c40281b",
      "metadata": {
        "id": "5c40281b",
        "outputId": "6d74498e-7e24-4dc1-f1f1-bceefec78f86"
      },
      "outputs": [
        {
          "data": {
            "image/png": "[encoded data removed]",
            "text/plain": [
              "<Figure size 432x288 with 1 Axes>"
            ]
          },
          "metadata": {
            "needs_background": "light"
          },
          "output_type": "display_data"
        }
      ],
      "source": [
        "#define metrics\n",
        "y_pred_proba = model.predict_proba(X_test)[::,1]\n",
        "fpr, tpr, _ = metrics.roc_curve(Y_test,  y_pred_proba)\n",
        "auc = metrics.roc_auc_score(Y_test, y_pred_proba)\n",
        "\n",
        "\n",
        "#create ROC curve\n",
        "plt.plot(fpr,tpr,label=\"AUC=\"+str(auc))\n",
        "plt.ylabel('True Positive Rate')\n",
        "plt.xlabel('False Positive Rate')\n",
        "plt.legend(loc=4)\n",
        "plt.show()"
      ]
    },
    {
      "cell_type": "code",
      "execution_count": null,
      "id": "b84b7ecd",
      "metadata": {
        "id": "b84b7ecd"
      },
      "outputs": [],
      "source": [
        ""
      ]
    },
    {
      "cell_type": "code",
      "execution_count": null,
      "id": "5cc5d9bf",
      "metadata": {
        "id": "5cc5d9bf",
        "outputId": "0442094b-4ac1-4870-f35e-517929da1ad4"
      },
      "outputs": [
        {
          "name": "stdout",
          "output_type": "stream",
          "text": [
            "AUC Score:\n",
            "0.9931241860108788\n"
          ]
        }
      ],
      "source": [
        "# Print ROC_AUC score using probabilities\n",
        "print('AUC Score:')\n",
        "print(roc_auc_score(Y_test, probs[:, 1]))"
      ]
    },
    {
      "cell_type": "markdown",
      "id": "360ee255",
      "metadata": {
        "id": "360ee255"
      },
      "source": [
        "<h1>0,99 AUC ball bizning Tasodifiy o'rmon modelimiz 99% to'g'ri bashorat bilan deyarli mukammal ekanligini ko'rsatadi</h1>."
      ]
    }
  ],
  "metadata": {
    "kernelspec": {
      "display_name": "Python 3 (ipykernel)",
      "language": "python",
      "name": "python3"
    },
    "language_info": {
      "codemirror_mode": {
        "name": "ipython",
        "version": 3
      },
      "file_extension": ".py",
      "mimetype": "text/x-python",
      "name": "python",
      "nbconvert_exporter": "python",
      "pygments_lexer": "ipython3",
      "version": "3.9.7"
    },
    "colab": {
      "name": "Firibgarlarni aniqlash .ipynb",
      "provenance": [],
      "include_colab_link": true
    }
  },
  "nbformat": 4,
  "nbformat_minor": 5
}